{
 "metadata": {
  "language_info": {
   "codemirror_mode": {
    "name": "ipython",
    "version": 3
   },
   "file_extension": ".py",
   "mimetype": "text/x-python",
   "name": "python",
   "nbconvert_exporter": "python",
   "pygments_lexer": "ipython3",
   "version": "3.8.3-final"
  },
  "orig_nbformat": 2,
  "kernelspec": {
   "name": "python3",
   "display_name": "Python 3",
   "language": "python"
  }
 },
 "nbformat": 4,
 "nbformat_minor": 2,
 "cells": [
  {
   "cell_type": "code",
   "execution_count": null,
   "metadata": {},
   "outputs": [],
   "source": [
    "# import csv\n",
    "# import os\n",
    "# for i in range(12,1200):\n",
    "#     fname = os.path.join('New_Dataset',str(i)+'.csv')\n",
    "#     with open(fname,'w',newline='') as file:\n",
    "#         writer = csv.writer(file)\n",
    "#         writer.writerow([\"Image\",\"Annotations\"])"
   ]
  },
  {
   "cell_type": "code",
   "execution_count": null,
   "metadata": {},
   "outputs": [],
   "source": [
    "def add_on_csv(idx,Image,GTname):\n",
    "    for i in idx:\n",
    "        fname = os.path.join('New_Dataset',str(i)+'.csv')\n",
    "        with open(fname,'a+',newline='') as file:\n",
    "            writer = csv.writer(file)\n",
    "            writer.writerow([Image,GTname])"
   ]
  },
  {
   "cell_type": "code",
   "execution_count": null,
   "metadata": {},
   "outputs": [],
   "source": [
    "from __future__ import print_function, division\n",
    "import os\n",
    "os.environ['KMP_DUPLICATE_LIB_OK']='True'\n",
    "import torch\n",
    "import pandas as pd\n",
    "import numpy as np\n",
    "from torch.utils.data import Dataset, DataLoader\n",
    "import matplotlib.pyplot as plt\n",
    "from torchvision import transforms, utils\n",
    "from PIL import Image\n",
    "import torchvision.transforms.functional as TF"
   ]
  },
  {
   "cell_type": "code",
   "execution_count": null,
   "metadata": {},
   "outputs": [],
   "source": [
    "concepts = [\"color\",\"object\",\"part\",\"material\",\"scene\",\"texture\"]\n",
    "\n",
    "class conceptLoader(Dataset):\n",
    "    \"\"\"Broaden Dataset Image Loader\"\"\"\n",
    "    \n",
    "    def __init__(self, root_dir):\n",
    "        \"\"\"\n",
    "        Args:\n",
    "            csv_file (string): Path to the csv file with annotations.\n",
    "            root_dir (string): Directory with all the images.\n",
    "            conceptType (string): type of the concept to load.\n",
    "        \"\"\"\n",
    "        self.c_flag = False  # Concept Flag\n",
    "        csv_file = os.path.join(root_dir,\"index.csv\") \n",
    "        root_dir = os.path.join(root_dir,\"images\") \n",
    "        self.fileNames = pd.read_csv(csv_file)\n",
    "        self.root_dir = root_dir\n",
    "\n",
    "    def __len__(self):\n",
    "        return len(self.fileNames)\n",
    "    \n",
    "\n",
    "    def load_concept(self,idx,conceptType):\n",
    "        c_index = str(self.fileNames.iloc[idx, concepts.index(conceptType)+6])\n",
    "        image_name = str(self.fileNames.iloc[idx, 0])\n",
    "        if c_index=='nan':\n",
    "            self.c_flag = False\n",
    "            # sample = torch.zeros([1, 113, 113])\n",
    "            sample =0\n",
    "        else:\n",
    "            self.c_flag = True\n",
    "            if conceptType ==\"scene\" or conceptType ==\"texture\":\n",
    "                sample  = c_index.split(\";\") \n",
    "            elif conceptType ==\"part\":\n",
    "                items  = c_index.split(\";\") \n",
    "                sample = []\n",
    "                c_index=[]\n",
    "                for i in items:\n",
    "                    img_name = os.path.join(self.root_dir,i)\n",
    "                    image = Image.open(img_name)\n",
    "                    px = np.array(image)\n",
    "                    item = self.decodeClassMask(px)\n",
    "                    sample.append(item)\n",
    "                    c_index.append(i)\n",
    "                \n",
    "            else:\n",
    "                img_name = os.path.join(self.root_dir,c_index)\n",
    "                image = Image.open(img_name)\n",
    "                px = np.array(image)\n",
    "                sample = self.decodeClassMask(px)\n",
    "                #sample = Image.fromarray(sample)\n",
    "                #sample = TF.to_tensor(sample)     \n",
    "\n",
    "        # sample.unsqueeze_(0)\n",
    "        return self.c_flag, sample,image_name,c_index\n",
    "\n",
    "    def decodeClassMask(self,im):\n",
    "        ''' Decodes pixel-level object/part class and instance data from\n",
    "        the given image, previously encoded into RGB channels.'''\n",
    "    # Classes are a combination of RG channels\n",
    "        return (im[:,:,0] + (im[:,:,1])*256)\n",
    "\n"
   ]
  },
  {
   "cell_type": "code",
   "execution_count": null,
   "metadata": {
    "tags": [
     "outputPrepend"
    ]
   },
   "outputs": [],
   "source": [
    "    dataset_path='./broden1_227'\n",
    "    # data_obj = imageLoader(dataset_path)\n",
    "    data_obj = conceptLoader(dataset_path)\n",
    "    for j in range(63305):\n",
    "        flag,aa,ImgName, ConName = data_obj.load_concept(j,\"material\")\n",
    "        print(j)\n",
    "        if flag:\n",
    "            k=np.unique(aa)\n",
    "            add_on_csv(k,ImgName,ConName)"
   ]
  },
  {
   "cell_type": "code",
   "execution_count": null,
   "metadata": {
    "tags": [
     "outputPrepend"
    ]
   },
   "outputs": [],
   "source": [
    "    dataset_path='./broden1_227'\n",
    "    # data_obj = imageLoader(dataset_path)\n",
    "    data_obj = conceptLoader(dataset_path)\n",
    "    for j in range(63305):\n",
    "        flag,aa,ImgName, ConName = data_obj.load_concept(j,\"part\")\n",
    "\n",
    "        if flag:\n",
    "            for i in range(len(aa)):\n",
    "                k=np.unique(aa[i])\n",
    "                add_on_csv(k,ImgName,ConName[i])\n",
    "        print(j)"
   ]
  },
  {
   "cell_type": "code",
   "execution_count": null,
   "metadata": {},
   "outputs": [],
   "source": [
    "import numpy as np\n",
    "aa=np.zeros((2,2))\n",
    "aa[0,0]=1\n",
    "aa[aa!=1]=0\n",
    "\n",
    "print(aa)"
   ]
  },
  {
   "cell_type": "code",
   "execution_count": null,
   "metadata": {},
   "outputs": [],
   "source": [
    "import torch \n",
    "x=torch.ones([10,3,155,155])"
   ]
  },
  {
   "cell_type": "code",
   "execution_count": null,
   "metadata": {},
   "outputs": [],
   "source": [
    "y=torch.ones([x.shape[0]])"
   ]
  },
  {
   "cell_type": "code",
   "execution_count": null,
   "metadata": {},
   "outputs": [],
   "source": [
    "import os\n",
    "cwd = os.getcwd()  \n",
    "dir = os.path.join(cwd,\"Tk\")\n",
    "if not os.path.exists(dir):\n",
    "    os.mkdir(dir)"
   ]
  },
  {
   "cell_type": "code",
   "execution_count": null,
   "metadata": {},
   "outputs": [],
   "source": [
    "import torch\n",
    "import torch.nn as nn\n",
    "import torch.optim as optim\n",
    "import torch.nn.functional as F\n",
    "from torch.utils.data import DataLoader\n",
    "import torchvision\n",
    "import torchvision.transforms as transforms\n",
    "from skimage.transform import resize\n",
    "import torchvision.datasets as datasets\n",
    "from torchvision import models\n",
    "import matplotlib.pyplot as plt\n",
    "import time\n",
    "import numpy as np\n",
    "import gc"
   ]
  },
  {
   "cell_type": "code",
   "execution_count": null,
   "metadata": {},
   "outputs": [],
   "source": [
    "from torchvision import models\n",
    "model = models.resnet18(pretrained=True)\n",
    "name = model.__class__.__name__\n",
    "print(name)"
   ]
  },
  {
   "cell_type": "code",
   "execution_count": null,
   "metadata": {},
   "outputs": [],
   "source": [
    "os.mkdir('tempDir')"
   ]
  },
  {
   "cell_type": "code",
   "execution_count": null,
   "execution_count": 94,
   "execution_count": 5,
   "metadata": {},
   "outputs": [],
   "source": [
    "import numpy as np"
   ]
  },
  {
   "cell_type": "code",
   "execution_count": null,
   "metadata": {},
   "outputs": [],
   "source": [
    "z=np.load('E:\\TRDP_II\\ICNN\\IOU/resnet18/iou_Layer1_conv2d_1.npy')\n",
    "\n",
    "z.shape"
   ]
  },
  {
   "cell_type": "code",
   "execution_count": null,
   "metadata": {},
   "outputs": [],
   "source": [
    "import matplotlib.pyplot as plt\n",
    "plt.plot([1, 2, 3, 4])\n",
    "plt.xlabel('Blah')\n",
    "plt.ylabel('some numbers')\n",
    "plt.show()"
   ]
  },
  {
   "cell_type": "code",
   "execution_count": null,
   "metadata": {},
   "outputs": [],
   "source": [
    "plt.plot([1, 2, 3, 4], [1, 4, 9, 16], 'r*')\n",
    "plt.axis([0, 6, 0, 20])\n",
    "plt.show()"
   ]
  },
  {
   "cell_type": "code",
   "execution_count": null,
   "metadata": {},
   "outputs": [],
   "source": [
    "import numpy as np\n",
    "\n",
    "# evenly sampled time at 200ms intervals\n",
    "t = np.arange(0., 5., 0.2)\n",
    "\n",
    "# red dashes, blue squares and green triangles\n",
    "plt.plot(t, t, 'r--', t, t**2, 'bs', t, t**3, 'g^')\n",
    "plt.show()"
   ]
  },
  {
   "cell_type": "code",
   "execution_count": null,
   "metadata": {},
   "outputs": [],
   "source": [
    "names = ['group_a', 'group_b', 'group_c']\n",
    "values = [1, 10, 100]\n",
    "\n",
    "plt.figure(figsize=(9, 3))\n",
    "\n",
    "plt.subplot(131)\n",
    "plt.bar(names, values)\n",
    "plt.subplot(132)\n",
    "plt.scatter(names, values)\n",
    "plt.subplot(133)\n",
    "plt.plot(names, values)\n",
    "plt.suptitle('Categorical Plotting')\n",
    "plt.show()"
   ]
  },
  {
   "cell_type": "code",
   "execution_count": null,
   "metadata": {},
   "outputs": [],
   "source": [
    "import numpy as np\n",
    "from numpy import unravel_index\n",
    "iou = np.random.randint(10, size=(64,1200,6))\n",
    "print(iou.shape)"
   ]
  },
  {
   "cell_type": "code",
   "execution_count": null,
   "metadata": {},
   "outputs": [],
   "source": [
    "top = 3\n",
    "num_concept = 4\n",
    "# names = [\"Tush\",\"Bush\",\"Nush\",\"thush\",\"ghush\"]\n",
    "# values = np.random.randint(10, size=(top,num_concept,5))\n",
    "names,values = get_concept_summary(\"resnet18\")\n",
    "\n",
    "\n",
    "for t in range(top):\n",
    "    plt.figure(figsize=(15, 3))\n",
    "    plt.suptitle(\"Top \"+str(t+1))\n",
    "\n",
    "    p1,=plt.plot(names,values[t,0,:],'o--',label=\"color\")\n",
    "    p2,=plt.plot(names,values[t,1,:],'o--',label=\"Object\")\n",
    "    p3,=plt.plot(names,values[t,2,:],'o--',label=\"Part\")\n",
    "    p4,=plt.plot(names,values[t,3,:],'o--',label=\"Material\")\n",
    "\n",
    "    # Place a legend above this subplot, expanding itself to\n",
    "    # fully use the given bounding box.\n",
    "    plt.legend(bbox_to_anchor=(0., 1.02, 1., .102), loc='lower right',\n",
    "           ncol=1, mode=\"expand\", borderaxespad=0.)\n",
    "    plt.show()\n",
    "        "
   ]
  },
  {
   "cell_type": "code",
   "execution_count": 78,
   "metadata": {},
   "outputs": [],
   "source": [
    "def generate_TopThreeIOU(iou,top=3):\n",
    "    TopThreeIOU = np.zeros([top,iou.shape[0]])\n",
    "    for u in range(iou.shape[0]):\n",
    "        U_iou = iou[u,:,:]\n",
    "        for t in range(top):\n",
    "            idx =unravel_index(U_iou.argmax(), U_iou.shape)\n",
    "            TopThreeIOU[t,u]=idx[1]\n",
    "            U_iou[idx]=0\n",
    "    return TopThreeIOU"
   ]
  },
  {
   "cell_type": "code",
   "execution_count": 79,
   "metadata": {},
   "outputs": [],
   "source": [
    "def plot_summary(iou,top=3):\n",
    "\n",
    "    num_concept = 4 # No. of concepts\n",
    "\n",
    "    #shape of tp_iou = #top x #No. of units\n",
    "    tp_iou = generate_TopThreeIOU(iou,top)\n",
    "\n",
    "    c= np.zeros([top,num_concept])\n",
    "    for t in range(top):\n",
    "        temp = np.array(tp_iou[t,:])\n",
    "        for i in range (num_concept):\n",
    "            c[t,i] = sum(temp==i)\n",
    "    return c"
   ]
  },
  {
   "cell_type": "code",
   "execution_count": 80,
   "metadata": {},
   "outputs": [],
   "source": [
    "import numpy as np\n",
    "from numpy import unravel_index\n",
    "import matplotlib.pyplot as plt\n",
    "import matplotlib.patches as mpatches\n",
    "\n",
    "values = np.zeros((top,num_concept,17))\n",
    "for layer in range(17):\n",
    "    iou=np.load('E:\\TRDP_II\\IOU/resnet18/iou_Layer1_conv2d_1.npy')\n",
    "    value = plot_summary(iou)\n",
    "    values[:,:,layer]=value"
   ]
  },
  {
   "cell_type": "code",
   "execution_count": 81,
   "execution_count": 98,
   "metadata": {},
   "outputs": [
    {
     "output_type": "stream",
     "name": "stdout",
     "text": [
      "(3, 4, 17)\n"
     ]
    }
   ],
   "source": [
    "print(values.shape)"
      "(256,)\n0.9679510226577568\n0.43022360112355396\n"
     ]
    },
    {
     "output_type": "execute_result",
     "data": {
      "text/plain": [
       "Text(0.5, 1.0, 'IG Score Distribution')"
      ]
     },
     "metadata": {},
     "execution_count": 98
    },
    {
     "output_type": "display_data",
     "data": {
      "text/plain": "<Figure size 432x288 with 1 Axes>",
      "image/svg+xml": "<?xml version=\"1.0\" encoding=\"utf-8\" standalone=\"no\"?>\r\n<!DOCTYPE svg PUBLIC \"-//W3C//DTD SVG 1.1//EN\"\r\n  \"http://www.w3.org/Graphics/SVG/1.1/DTD/svg11.dtd\">\r\n<!-- Created with matplotlib (https://matplotlib.org/) -->\r\n<svg height=\"275.72pt\" version=\"1.1\" viewBox=\"0 0 386.145312 275.72\" width=\"386.145312pt\" xmlns=\"http://www.w3.org/2000/svg\" xmlns:xlink=\"http://www.w3.org/1999/xlink\">\r\n <defs>\r\n  <style type=\"text/css\">\r\n*{stroke-linecap:butt;stroke-linejoin:round;}\r\n  </style>\r\n </defs>\r\n <g id=\"figure_1\">\r\n  <g id=\"patch_1\">\r\n   <path d=\"M 0 275.72 \r\nL 386.145312 275.72 \r\nL 386.145312 0 \r\nL 0 0 \r\nz\r\n\" style=\"fill:#ffffff;\"/>\r\n  </g>\r\n  <g id=\"axes_1\">\r\n   <g id=\"patch_2\">\r\n    <path d=\"M 44.145313 239.229375 \r\nL 378.945312 239.229375 \r\nL 378.945312 21.789375 \r\nL 44.145313 21.789375 \r\nz\r\n\" style=\"fill:#eaeaf2;\"/>\r\n   </g>\r\n   <g id=\"matplotlib.axis_1\">\r\n    <g id=\"xtick_1\">\r\n     <g id=\"line2d_1\">\r\n      <path clip-path=\"url(#pfc60fb5c34)\" d=\"M 56.432001 239.229375 \r\nL 56.432001 21.789375 \r\n\" style=\"fill:none;stroke:#ffffff;stroke-linecap:round;stroke-width:0.8;\"/>\r\n     </g>\r\n     <g id=\"text_1\">\r\n      <!-- 0 -->\r\n      <defs>\r\n       <path d=\"M 4.15625 35.296875 \r\nQ 4.15625 48 6.765625 55.734375 \r\nQ 9.375 63.484375 14.515625 67.671875 \r\nQ 19.671875 71.875 27.484375 71.875 \r\nQ 33.25 71.875 37.59375 69.546875 \r\nQ 41.9375 67.234375 44.765625 62.859375 \r\nQ 47.609375 58.5 49.21875 52.21875 \r\nQ 50.828125 45.953125 50.828125 35.296875 \r\nQ 50.828125 22.703125 48.234375 14.96875 \r\nQ 45.65625 7.234375 40.5 3 \r\nQ 35.359375 -1.21875 27.484375 -1.21875 \r\nQ 17.140625 -1.21875 11.234375 6.203125 \r\nQ 4.15625 15.140625 4.15625 35.296875 \r\nz\r\nM 13.1875 35.296875 \r\nQ 13.1875 17.671875 17.3125 11.828125 \r\nQ 21.4375 6 27.484375 6 \r\nQ 33.546875 6 37.671875 11.859375 \r\nQ 41.796875 17.71875 41.796875 35.296875 \r\nQ 41.796875 52.984375 37.671875 58.78125 \r\nQ 33.546875 64.59375 27.390625 64.59375 \r\nQ 21.34375 64.59375 17.71875 59.46875 \r\nQ 13.1875 52.9375 13.1875 35.296875 \r\nz\r\n\" id=\"ArialMT-48\"/>\r\n      </defs>\r\n      <g style=\"fill:#262626;\" transform=\"translate(53.651533 253.387188)scale(0.1 -0.1)\">\r\n       <use xlink:href=\"#ArialMT-48\"/>\r\n      </g>\r\n     </g>\r\n    </g>\r\n    <g id=\"xtick_2\">\r\n     <g id=\"line2d_2\">\r\n      <path clip-path=\"url(#pfc60fb5c34)\" d=\"M 129.471706 239.229375 \r\nL 129.471706 21.789375 \r\n\" style=\"fill:none;stroke:#ffffff;stroke-linecap:round;stroke-width:0.8;\"/>\r\n     </g>\r\n     <g id=\"text_2\">\r\n      <!-- 1 -->\r\n      <defs>\r\n       <path d=\"M 37.25 0 \r\nL 28.46875 0 \r\nL 28.46875 56 \r\nQ 25.296875 52.984375 20.140625 49.953125 \r\nQ 14.984375 46.921875 10.890625 45.40625 \r\nL 10.890625 53.90625 \r\nQ 18.265625 57.375 23.78125 62.296875 \r\nQ 29.296875 67.234375 31.59375 71.875 \r\nL 37.25 71.875 \r\nz\r\n\" id=\"ArialMT-49\"/>\r\n      </defs>\r\n      <g style=\"fill:#262626;\" transform=\"translate(126.691237 253.387188)scale(0.1 -0.1)\">\r\n       <use xlink:href=\"#ArialMT-49\"/>\r\n      </g>\r\n     </g>\r\n    </g>\r\n    <g id=\"xtick_3\">\r\n     <g id=\"line2d_3\">\r\n      <path clip-path=\"url(#pfc60fb5c34)\" d=\"M 202.511411 239.229375 \r\nL 202.511411 21.789375 \r\n\" style=\"fill:none;stroke:#ffffff;stroke-linecap:round;stroke-width:0.8;\"/>\r\n     </g>\r\n     <g id=\"text_3\">\r\n      <!-- 2 -->\r\n      <defs>\r\n       <path d=\"M 50.34375 8.453125 \r\nL 50.34375 0 \r\nL 3.03125 0 \r\nQ 2.9375 3.171875 4.046875 6.109375 \r\nQ 5.859375 10.9375 9.828125 15.625 \r\nQ 13.8125 20.3125 21.34375 26.46875 \r\nQ 33.015625 36.03125 37.109375 41.625 \r\nQ 41.21875 47.21875 41.21875 52.203125 \r\nQ 41.21875 57.421875 37.46875 61 \r\nQ 33.734375 64.59375 27.734375 64.59375 \r\nQ 21.390625 64.59375 17.578125 60.78125 \r\nQ 13.765625 56.984375 13.71875 50.25 \r\nL 4.6875 51.171875 \r\nQ 5.609375 61.28125 11.65625 66.578125 \r\nQ 17.71875 71.875 27.9375 71.875 \r\nQ 38.234375 71.875 44.234375 66.15625 \r\nQ 50.25 60.453125 50.25 52 \r\nQ 50.25 47.703125 48.484375 43.546875 \r\nQ 46.734375 39.40625 42.65625 34.8125 \r\nQ 38.578125 30.21875 29.109375 22.21875 \r\nQ 21.1875 15.578125 18.9375 13.203125 \r\nQ 16.703125 10.84375 15.234375 8.453125 \r\nz\r\n\" id=\"ArialMT-50\"/>\r\n      </defs>\r\n      <g style=\"fill:#262626;\" transform=\"translate(199.730942 253.387188)scale(0.1 -0.1)\">\r\n       <use xlink:href=\"#ArialMT-50\"/>\r\n      </g>\r\n     </g>\r\n    </g>\r\n    <g id=\"xtick_4\">\r\n     <g id=\"line2d_4\">\r\n      <path clip-path=\"url(#pfc60fb5c34)\" d=\"M 275.551116 239.229375 \r\nL 275.551116 21.789375 \r\n\" style=\"fill:none;stroke:#ffffff;stroke-linecap:round;stroke-width:0.8;\"/>\r\n     </g>\r\n     <g id=\"text_4\">\r\n      <!-- 3 -->\r\n      <defs>\r\n       <path d=\"M 4.203125 18.890625 \r\nL 12.984375 20.0625 \r\nQ 14.5 12.59375 18.140625 9.296875 \r\nQ 21.78125 6 27 6 \r\nQ 33.203125 6 37.46875 10.296875 \r\nQ 41.75 14.59375 41.75 20.953125 \r\nQ 41.75 27 37.796875 30.921875 \r\nQ 33.84375 34.859375 27.734375 34.859375 \r\nQ 25.25 34.859375 21.53125 33.890625 \r\nL 22.515625 41.609375 \r\nQ 23.390625 41.5 23.921875 41.5 \r\nQ 29.546875 41.5 34.03125 44.421875 \r\nQ 38.53125 47.359375 38.53125 53.46875 \r\nQ 38.53125 58.296875 35.25 61.46875 \r\nQ 31.984375 64.65625 26.8125 64.65625 \r\nQ 21.6875 64.65625 18.265625 61.421875 \r\nQ 14.84375 58.203125 13.875 51.765625 \r\nL 5.078125 53.328125 \r\nQ 6.6875 62.15625 12.390625 67.015625 \r\nQ 18.109375 71.875 26.609375 71.875 \r\nQ 32.46875 71.875 37.390625 69.359375 \r\nQ 42.328125 66.84375 44.9375 62.5 \r\nQ 47.5625 58.15625 47.5625 53.265625 \r\nQ 47.5625 48.640625 45.0625 44.828125 \r\nQ 42.578125 41.015625 37.703125 38.765625 \r\nQ 44.046875 37.3125 47.5625 32.6875 \r\nQ 51.078125 28.078125 51.078125 21.140625 \r\nQ 51.078125 11.765625 44.234375 5.25 \r\nQ 37.40625 -1.265625 26.953125 -1.265625 \r\nQ 17.53125 -1.265625 11.296875 4.34375 \r\nQ 5.078125 9.96875 4.203125 18.890625 \r\nz\r\n\" id=\"ArialMT-51\"/>\r\n      </defs>\r\n      <g style=\"fill:#262626;\" transform=\"translate(272.770647 253.387188)scale(0.1 -0.1)\">\r\n       <use xlink:href=\"#ArialMT-51\"/>\r\n      </g>\r\n     </g>\r\n    </g>\r\n    <g id=\"xtick_5\">\r\n     <g id=\"line2d_5\">\r\n      <path clip-path=\"url(#pfc60fb5c34)\" d=\"M 348.590821 239.229375 \r\nL 348.590821 21.789375 \r\n\" style=\"fill:none;stroke:#ffffff;stroke-linecap:round;stroke-width:0.8;\"/>\r\n     </g>\r\n     <g id=\"text_5\">\r\n      <!-- 4 -->\r\n      <defs>\r\n       <path d=\"M 32.328125 0 \r\nL 32.328125 17.140625 \r\nL 1.265625 17.140625 \r\nL 1.265625 25.203125 \r\nL 33.9375 71.578125 \r\nL 41.109375 71.578125 \r\nL 41.109375 25.203125 \r\nL 50.78125 25.203125 \r\nL 50.78125 17.140625 \r\nL 41.109375 17.140625 \r\nL 41.109375 0 \r\nz\r\nM 32.328125 25.203125 \r\nL 32.328125 57.46875 \r\nL 9.90625 25.203125 \r\nz\r\n\" id=\"ArialMT-52\"/>\r\n      </defs>\r\n      <g style=\"fill:#262626;\" transform=\"translate(345.810352 253.387188)scale(0.1 -0.1)\">\r\n       <use xlink:href=\"#ArialMT-52\"/>\r\n      </g>\r\n     </g>\r\n    </g>\r\n    <g id=\"text_6\">\r\n     <!-- Value -->\r\n     <defs>\r\n      <path d=\"M 28.171875 0 \r\nL 0.4375 71.578125 \r\nL 10.6875 71.578125 \r\nL 29.296875 19.578125 \r\nQ 31.546875 13.328125 33.0625 7.859375 \r\nQ 34.71875 13.71875 36.921875 19.578125 \r\nL 56.25 71.578125 \r\nL 65.921875 71.578125 \r\nL 37.890625 0 \r\nz\r\n\" id=\"ArialMT-86\"/>\r\n      <path d=\"M 40.4375 6.390625 \r\nQ 35.546875 2.25 31.03125 0.53125 \r\nQ 26.515625 -1.171875 21.34375 -1.171875 \r\nQ 12.796875 -1.171875 8.203125 3 \r\nQ 3.609375 7.171875 3.609375 13.671875 \r\nQ 3.609375 17.484375 5.34375 20.625 \r\nQ 7.078125 23.78125 9.890625 25.6875 \r\nQ 12.703125 27.59375 16.21875 28.5625 \r\nQ 18.796875 29.25 24.03125 29.890625 \r\nQ 34.671875 31.15625 39.703125 32.90625 \r\nQ 39.75 34.71875 39.75 35.203125 \r\nQ 39.75 40.578125 37.25 42.78125 \r\nQ 33.890625 45.75 27.25 45.75 \r\nQ 21.046875 45.75 18.09375 43.578125 \r\nQ 15.140625 41.40625 13.71875 35.890625 \r\nL 5.125 37.0625 \r\nQ 6.296875 42.578125 8.984375 45.96875 \r\nQ 11.671875 49.359375 16.75 51.1875 \r\nQ 21.828125 53.03125 28.515625 53.03125 \r\nQ 35.15625 53.03125 39.296875 51.46875 \r\nQ 43.453125 49.90625 45.40625 47.53125 \r\nQ 47.359375 45.171875 48.140625 41.546875 \r\nQ 48.578125 39.3125 48.578125 33.453125 \r\nL 48.578125 21.734375 \r\nQ 48.578125 9.46875 49.140625 6.21875 \r\nQ 49.703125 2.984375 51.375 0 \r\nL 42.1875 0 \r\nQ 40.828125 2.734375 40.4375 6.390625 \r\nz\r\nM 39.703125 26.03125 \r\nQ 34.90625 24.078125 25.34375 22.703125 \r\nQ 19.921875 21.921875 17.671875 20.9375 \r\nQ 15.4375 19.96875 14.203125 18.09375 \r\nQ 12.984375 16.21875 12.984375 13.921875 \r\nQ 12.984375 10.40625 15.640625 8.0625 \r\nQ 18.3125 5.71875 23.4375 5.71875 \r\nQ 28.515625 5.71875 32.46875 7.9375 \r\nQ 36.421875 10.15625 38.28125 14.015625 \r\nQ 39.703125 17 39.703125 22.796875 \r\nz\r\n\" id=\"ArialMT-97\"/>\r\n      <path d=\"M 6.390625 0 \r\nL 6.390625 71.578125 \r\nL 15.1875 71.578125 \r\nL 15.1875 0 \r\nz\r\n\" id=\"ArialMT-108\"/>\r\n      <path d=\"M 40.578125 0 \r\nL 40.578125 7.625 \r\nQ 34.515625 -1.171875 24.125 -1.171875 \r\nQ 19.53125 -1.171875 15.546875 0.578125 \r\nQ 11.578125 2.34375 9.640625 5 \r\nQ 7.71875 7.671875 6.9375 11.53125 \r\nQ 6.390625 14.109375 6.390625 19.734375 \r\nL 6.390625 51.859375 \r\nL 15.1875 51.859375 \r\nL 15.1875 23.09375 \r\nQ 15.1875 16.21875 15.71875 13.8125 \r\nQ 16.546875 10.359375 19.234375 8.375 \r\nQ 21.921875 6.390625 25.875 6.390625 \r\nQ 29.828125 6.390625 33.296875 8.421875 \r\nQ 36.765625 10.453125 38.203125 13.9375 \r\nQ 39.65625 17.4375 39.65625 24.078125 \r\nL 39.65625 51.859375 \r\nL 48.4375 51.859375 \r\nL 48.4375 0 \r\nz\r\n\" id=\"ArialMT-117\"/>\r\n      <path d=\"M 42.09375 16.703125 \r\nL 51.171875 15.578125 \r\nQ 49.03125 7.625 43.21875 3.21875 \r\nQ 37.40625 -1.171875 28.375 -1.171875 \r\nQ 17 -1.171875 10.328125 5.828125 \r\nQ 3.65625 12.84375 3.65625 25.484375 \r\nQ 3.65625 38.578125 10.390625 45.796875 \r\nQ 17.140625 53.03125 27.875 53.03125 \r\nQ 38.28125 53.03125 44.875 45.953125 \r\nQ 51.46875 38.875 51.46875 26.03125 \r\nQ 51.46875 25.25 51.421875 23.6875 \r\nL 12.75 23.6875 \r\nQ 13.234375 15.140625 17.578125 10.59375 \r\nQ 21.921875 6.0625 28.421875 6.0625 \r\nQ 33.25 6.0625 36.671875 8.59375 \r\nQ 40.09375 11.140625 42.09375 16.703125 \r\nz\r\nM 13.234375 30.90625 \r\nL 42.1875 30.90625 \r\nQ 41.609375 37.453125 38.875 40.71875 \r\nQ 34.671875 45.796875 27.984375 45.796875 \r\nQ 21.921875 45.796875 17.796875 41.75 \r\nQ 13.671875 37.703125 13.234375 30.90625 \r\nz\r\n\" id=\"ArialMT-101\"/>\r\n     </defs>\r\n     <g style=\"fill:#262626;\" transform=\"translate(198.763281 266.5325)scale(0.1 -0.1)\">\r\n      <use xlink:href=\"#ArialMT-86\"/>\r\n      <use x=\"66.589844\" xlink:href=\"#ArialMT-97\"/>\r\n      <use x=\"122.205078\" xlink:href=\"#ArialMT-108\"/>\r\n      <use x=\"144.421875\" xlink:href=\"#ArialMT-117\"/>\r\n      <use x=\"200.037109\" xlink:href=\"#ArialMT-101\"/>\r\n     </g>\r\n    </g>\r\n   </g>\r\n   <g id=\"matplotlib.axis_2\">\r\n    <g id=\"ytick_1\">\r\n     <g id=\"line2d_6\">\r\n      <path clip-path=\"url(#pfc60fb5c34)\" d=\"M 44.145313 239.229375 \r\nL 378.945312 239.229375 \r\n\" style=\"fill:none;stroke:#ffffff;stroke-linecap:round;stroke-opacity:0.75;stroke-width:0.8;\"/>\r\n     </g>\r\n     <g id=\"text_7\">\r\n      <!-- 0 -->\r\n      <g style=\"fill:#262626;\" transform=\"translate(31.584375 242.808281)scale(0.1 -0.1)\">\r\n       <use xlink:href=\"#ArialMT-48\"/>\r\n      </g>\r\n     </g>\r\n    </g>\r\n    <g id=\"ytick_2\">\r\n     <g id=\"line2d_7\">\r\n      <path clip-path=\"url(#pfc60fb5c34)\" d=\"M 44.145313 212.123915 \r\nL 378.945312 212.123915 \r\n\" style=\"fill:none;stroke:#ffffff;stroke-linecap:round;stroke-opacity:0.75;stroke-width:0.8;\"/>\r\n     </g>\r\n     <g id=\"text_8\">\r\n      <!-- 25 -->\r\n      <defs>\r\n       <path d=\"M 4.15625 18.75 \r\nL 13.375 19.53125 \r\nQ 14.40625 12.796875 18.140625 9.390625 \r\nQ 21.875 6 27.15625 6 \r\nQ 33.5 6 37.890625 10.78125 \r\nQ 42.28125 15.578125 42.28125 23.484375 \r\nQ 42.28125 31 38.0625 35.34375 \r\nQ 33.84375 39.703125 27 39.703125 \r\nQ 22.75 39.703125 19.328125 37.765625 \r\nQ 15.921875 35.84375 13.96875 32.765625 \r\nL 5.71875 33.84375 \r\nL 12.640625 70.609375 \r\nL 48.25 70.609375 \r\nL 48.25 62.203125 \r\nL 19.671875 62.203125 \r\nL 15.828125 42.96875 \r\nQ 22.265625 47.46875 29.34375 47.46875 \r\nQ 38.71875 47.46875 45.15625 40.96875 \r\nQ 51.609375 34.46875 51.609375 24.265625 \r\nQ 51.609375 14.546875 45.953125 7.46875 \r\nQ 39.0625 -1.21875 27.15625 -1.21875 \r\nQ 17.390625 -1.21875 11.203125 4.25 \r\nQ 5.03125 9.71875 4.15625 18.75 \r\nz\r\n\" id=\"ArialMT-53\"/>\r\n      </defs>\r\n      <g style=\"fill:#262626;\" transform=\"translate(26.023438 215.702821)scale(0.1 -0.1)\">\r\n       <use xlink:href=\"#ArialMT-50\"/>\r\n       <use x=\"55.615234\" xlink:href=\"#ArialMT-53\"/>\r\n      </g>\r\n     </g>\r\n    </g>\r\n    <g id=\"ytick_3\">\r\n     <g id=\"line2d_8\">\r\n      <path clip-path=\"url(#pfc60fb5c34)\" d=\"M 44.145313 185.018455 \r\nL 378.945312 185.018455 \r\n\" style=\"fill:none;stroke:#ffffff;stroke-linecap:round;stroke-opacity:0.75;stroke-width:0.8;\"/>\r\n     </g>\r\n     <g id=\"text_9\">\r\n      <!-- 50 -->\r\n      <g style=\"fill:#262626;\" transform=\"translate(26.023438 188.597361)scale(0.1 -0.1)\">\r\n       <use xlink:href=\"#ArialMT-53\"/>\r\n       <use x=\"55.615234\" xlink:href=\"#ArialMT-48\"/>\r\n      </g>\r\n     </g>\r\n    </g>\r\n    <g id=\"ytick_4\">\r\n     <g id=\"line2d_9\">\r\n      <path clip-path=\"url(#pfc60fb5c34)\" d=\"M 44.145313 157.912995 \r\nL 378.945312 157.912995 \r\n\" style=\"fill:none;stroke:#ffffff;stroke-linecap:round;stroke-opacity:0.75;stroke-width:0.8;\"/>\r\n     </g>\r\n     <g id=\"text_10\">\r\n      <!-- 75 -->\r\n      <defs>\r\n       <path d=\"M 4.734375 62.203125 \r\nL 4.734375 70.65625 \r\nL 51.078125 70.65625 \r\nL 51.078125 63.8125 \r\nQ 44.234375 56.546875 37.515625 44.484375 \r\nQ 30.8125 32.421875 27.15625 19.671875 \r\nQ 24.515625 10.6875 23.78125 0 \r\nL 14.75 0 \r\nQ 14.890625 8.453125 18.0625 20.40625 \r\nQ 21.234375 32.375 27.171875 43.484375 \r\nQ 33.109375 54.59375 39.796875 62.203125 \r\nz\r\n\" id=\"ArialMT-55\"/>\r\n      </defs>\r\n      <g style=\"fill:#262626;\" transform=\"translate(26.023438 161.491901)scale(0.1 -0.1)\">\r\n       <use xlink:href=\"#ArialMT-55\"/>\r\n       <use x=\"55.615234\" xlink:href=\"#ArialMT-53\"/>\r\n      </g>\r\n     </g>\r\n    </g>\r\n    <g id=\"ytick_5\">\r\n     <g id=\"line2d_10\">\r\n      <path clip-path=\"url(#pfc60fb5c34)\" d=\"M 44.145313 130.807535 \r\nL 378.945312 130.807535 \r\n\" style=\"fill:none;stroke:#ffffff;stroke-linecap:round;stroke-opacity:0.75;stroke-width:0.8;\"/>\r\n     </g>\r\n     <g id=\"text_11\">\r\n      <!-- 100 -->\r\n      <g style=\"fill:#262626;\" transform=\"translate(20.4625 134.386441)scale(0.1 -0.1)\">\r\n       <use xlink:href=\"#ArialMT-49\"/>\r\n       <use x=\"55.615234\" xlink:href=\"#ArialMT-48\"/>\r\n       <use x=\"111.230469\" xlink:href=\"#ArialMT-48\"/>\r\n      </g>\r\n     </g>\r\n    </g>\r\n    <g id=\"ytick_6\">\r\n     <g id=\"line2d_11\">\r\n      <path clip-path=\"url(#pfc60fb5c34)\" d=\"M 44.145313 103.702075 \r\nL 378.945312 103.702075 \r\n\" style=\"fill:none;stroke:#ffffff;stroke-linecap:round;stroke-opacity:0.75;stroke-width:0.8;\"/>\r\n     </g>\r\n     <g id=\"text_12\">\r\n      <!-- 125 -->\r\n      <g style=\"fill:#262626;\" transform=\"translate(20.4625 107.280981)scale(0.1 -0.1)\">\r\n       <use xlink:href=\"#ArialMT-49\"/>\r\n       <use x=\"55.615234\" xlink:href=\"#ArialMT-50\"/>\r\n       <use x=\"111.230469\" xlink:href=\"#ArialMT-53\"/>\r\n      </g>\r\n     </g>\r\n    </g>\r\n    <g id=\"ytick_7\">\r\n     <g id=\"line2d_12\">\r\n      <path clip-path=\"url(#pfc60fb5c34)\" d=\"M 44.145313 76.596615 \r\nL 378.945312 76.596615 \r\n\" style=\"fill:none;stroke:#ffffff;stroke-linecap:round;stroke-opacity:0.75;stroke-width:0.8;\"/>\r\n     </g>\r\n     <g id=\"text_13\">\r\n      <!-- 150 -->\r\n      <g style=\"fill:#262626;\" transform=\"translate(20.4625 80.175521)scale(0.1 -0.1)\">\r\n       <use xlink:href=\"#ArialMT-49\"/>\r\n       <use x=\"55.615234\" xlink:href=\"#ArialMT-53\"/>\r\n       <use x=\"111.230469\" xlink:href=\"#ArialMT-48\"/>\r\n      </g>\r\n     </g>\r\n    </g>\r\n    <g id=\"ytick_8\">\r\n     <g id=\"line2d_13\">\r\n      <path clip-path=\"url(#pfc60fb5c34)\" d=\"M 44.145313 49.491155 \r\nL 378.945312 49.491155 \r\n\" style=\"fill:none;stroke:#ffffff;stroke-linecap:round;stroke-opacity:0.75;stroke-width:0.8;\"/>\r\n     </g>\r\n     <g id=\"text_14\">\r\n      <!-- 175 -->\r\n      <g style=\"fill:#262626;\" transform=\"translate(20.4625 53.070061)scale(0.1 -0.1)\">\r\n       <use xlink:href=\"#ArialMT-49\"/>\r\n       <use x=\"55.615234\" xlink:href=\"#ArialMT-55\"/>\r\n       <use x=\"111.230469\" xlink:href=\"#ArialMT-53\"/>\r\n      </g>\r\n     </g>\r\n    </g>\r\n    <g id=\"ytick_9\">\r\n     <g id=\"line2d_14\">\r\n      <path clip-path=\"url(#pfc60fb5c34)\" d=\"M 44.145313 22.385695 \r\nL 378.945312 22.385695 \r\n\" style=\"fill:none;stroke:#ffffff;stroke-linecap:round;stroke-opacity:0.75;stroke-width:0.8;\"/>\r\n     </g>\r\n     <g id=\"text_15\">\r\n      <!-- 200 -->\r\n      <g style=\"fill:#262626;\" transform=\"translate(20.4625 25.964601)scale(0.1 -0.1)\">\r\n       <use xlink:href=\"#ArialMT-50\"/>\r\n       <use x=\"55.615234\" xlink:href=\"#ArialMT-48\"/>\r\n       <use x=\"111.230469\" xlink:href=\"#ArialMT-48\"/>\r\n      </g>\r\n     </g>\r\n    </g>\r\n    <g id=\"text_16\">\r\n     <!-- Unit Frequency -->\r\n     <defs>\r\n      <path d=\"M 54.6875 71.578125 \r\nL 64.15625 71.578125 \r\nL 64.15625 30.21875 \r\nQ 64.15625 19.4375 61.71875 13.078125 \r\nQ 59.28125 6.734375 52.90625 2.75 \r\nQ 46.53125 -1.21875 36.1875 -1.21875 \r\nQ 26.125 -1.21875 19.71875 2.25 \r\nQ 13.328125 5.71875 10.59375 12.28125 \r\nQ 7.859375 18.84375 7.859375 30.21875 \r\nL 7.859375 71.578125 \r\nL 17.328125 71.578125 \r\nL 17.328125 30.28125 \r\nQ 17.328125 20.953125 19.0625 16.53125 \r\nQ 20.796875 12.109375 25.015625 9.71875 \r\nQ 29.25 7.328125 35.359375 7.328125 \r\nQ 45.796875 7.328125 50.234375 12.0625 \r\nQ 54.6875 16.796875 54.6875 30.28125 \r\nz\r\n\" id=\"ArialMT-85\"/>\r\n      <path d=\"M 6.59375 0 \r\nL 6.59375 51.859375 \r\nL 14.5 51.859375 \r\nL 14.5 44.484375 \r\nQ 20.21875 53.03125 31 53.03125 \r\nQ 35.6875 53.03125 39.625 51.34375 \r\nQ 43.5625 49.65625 45.515625 46.921875 \r\nQ 47.46875 44.1875 48.25 40.4375 \r\nQ 48.734375 37.984375 48.734375 31.890625 \r\nL 48.734375 0 \r\nL 39.9375 0 \r\nL 39.9375 31.546875 \r\nQ 39.9375 36.921875 38.90625 39.578125 \r\nQ 37.890625 42.234375 35.28125 43.8125 \r\nQ 32.671875 45.40625 29.15625 45.40625 \r\nQ 23.53125 45.40625 19.453125 41.84375 \r\nQ 15.375 38.28125 15.375 28.328125 \r\nL 15.375 0 \r\nz\r\n\" id=\"ArialMT-110\"/>\r\n      <path d=\"M 6.640625 61.46875 \r\nL 6.640625 71.578125 \r\nL 15.4375 71.578125 \r\nL 15.4375 61.46875 \r\nz\r\nM 6.640625 0 \r\nL 6.640625 51.859375 \r\nL 15.4375 51.859375 \r\nL 15.4375 0 \r\nz\r\n\" id=\"ArialMT-105\"/>\r\n      <path d=\"M 25.78125 7.859375 \r\nL 27.046875 0.09375 \r\nQ 23.34375 -0.6875 20.40625 -0.6875 \r\nQ 15.625 -0.6875 12.984375 0.828125 \r\nQ 10.359375 2.34375 9.28125 4.8125 \r\nQ 8.203125 7.28125 8.203125 15.1875 \r\nL 8.203125 45.015625 \r\nL 1.765625 45.015625 \r\nL 1.765625 51.859375 \r\nL 8.203125 51.859375 \r\nL 8.203125 64.703125 \r\nL 16.9375 69.96875 \r\nL 16.9375 51.859375 \r\nL 25.78125 51.859375 \r\nL 25.78125 45.015625 \r\nL 16.9375 45.015625 \r\nL 16.9375 14.703125 \r\nQ 16.9375 10.9375 17.40625 9.859375 \r\nQ 17.875 8.796875 18.921875 8.15625 \r\nQ 19.96875 7.515625 21.921875 7.515625 \r\nQ 23.390625 7.515625 25.78125 7.859375 \r\nz\r\n\" id=\"ArialMT-116\"/>\r\n      <path id=\"ArialMT-32\"/>\r\n      <path d=\"M 8.203125 0 \r\nL 8.203125 71.578125 \r\nL 56.5 71.578125 \r\nL 56.5 63.140625 \r\nL 17.671875 63.140625 \r\nL 17.671875 40.96875 \r\nL 51.265625 40.96875 \r\nL 51.265625 32.515625 \r\nL 17.671875 32.515625 \r\nL 17.671875 0 \r\nz\r\n\" id=\"ArialMT-70\"/>\r\n      <path d=\"M 6.5 0 \r\nL 6.5 51.859375 \r\nL 14.40625 51.859375 \r\nL 14.40625 44 \r\nQ 17.4375 49.515625 20 51.265625 \r\nQ 22.5625 53.03125 25.640625 53.03125 \r\nQ 30.078125 53.03125 34.671875 50.203125 \r\nL 31.640625 42.046875 \r\nQ 28.421875 43.953125 25.203125 43.953125 \r\nQ 22.3125 43.953125 20.015625 42.21875 \r\nQ 17.71875 40.484375 16.75 37.40625 \r\nQ 15.28125 32.71875 15.28125 27.15625 \r\nL 15.28125 0 \r\nz\r\n\" id=\"ArialMT-114\"/>\r\n      <path d=\"M 39.65625 -19.875 \r\nL 39.65625 5.515625 \r\nQ 37.59375 2.640625 33.90625 0.734375 \r\nQ 30.21875 -1.171875 26.078125 -1.171875 \r\nQ 16.84375 -1.171875 10.171875 6.203125 \r\nQ 3.515625 13.578125 3.515625 26.421875 \r\nQ 3.515625 34.234375 6.21875 40.421875 \r\nQ 8.9375 46.625 14.078125 49.828125 \r\nQ 19.234375 53.03125 25.390625 53.03125 \r\nQ 35.015625 53.03125 40.53125 44.921875 \r\nL 40.53125 51.859375 \r\nL 48.4375 51.859375 \r\nL 48.4375 -19.875 \r\nz\r\nM 12.546875 26.078125 \r\nQ 12.546875 16.0625 16.75 11.0625 \r\nQ 20.953125 6.0625 26.8125 6.0625 \r\nQ 32.421875 6.0625 36.46875 10.8125 \r\nQ 40.53125 15.578125 40.53125 25.296875 \r\nQ 40.53125 35.640625 36.25 40.859375 \r\nQ 31.984375 46.09375 26.21875 46.09375 \r\nQ 20.515625 46.09375 16.53125 41.234375 \r\nQ 12.546875 36.375 12.546875 26.078125 \r\nz\r\n\" id=\"ArialMT-113\"/>\r\n      <path d=\"M 40.4375 19 \r\nL 49.078125 17.875 \r\nQ 47.65625 8.9375 41.8125 3.875 \r\nQ 35.984375 -1.171875 27.484375 -1.171875 \r\nQ 16.84375 -1.171875 10.375 5.78125 \r\nQ 3.90625 12.75 3.90625 25.734375 \r\nQ 3.90625 34.125 6.6875 40.421875 \r\nQ 9.46875 46.734375 15.15625 49.875 \r\nQ 20.84375 53.03125 27.546875 53.03125 \r\nQ 35.984375 53.03125 41.359375 48.75 \r\nQ 46.734375 44.484375 48.25 36.625 \r\nL 39.703125 35.296875 \r\nQ 38.484375 40.53125 35.375 43.15625 \r\nQ 32.28125 45.796875 27.875 45.796875 \r\nQ 21.234375 45.796875 17.078125 41.03125 \r\nQ 12.9375 36.28125 12.9375 25.984375 \r\nQ 12.9375 15.53125 16.9375 10.796875 \r\nQ 20.953125 6.0625 27.390625 6.0625 \r\nQ 32.5625 6.0625 36.03125 9.234375 \r\nQ 39.5 12.40625 40.4375 19 \r\nz\r\n\" id=\"ArialMT-99\"/>\r\n      <path d=\"M 6.203125 -19.96875 \r\nL 5.21875 -11.71875 \r\nQ 8.109375 -12.5 10.25 -12.5 \r\nQ 13.1875 -12.5 14.9375 -11.515625 \r\nQ 16.703125 -10.546875 17.828125 -8.796875 \r\nQ 18.65625 -7.46875 20.515625 -2.25 \r\nQ 20.75 -1.515625 21.296875 -0.09375 \r\nL 1.609375 51.859375 \r\nL 11.078125 51.859375 \r\nL 21.875 21.828125 \r\nQ 23.96875 16.109375 25.640625 9.8125 \r\nQ 27.15625 15.875 29.25 21.625 \r\nL 40.328125 51.859375 \r\nL 49.125 51.859375 \r\nL 29.390625 -0.875 \r\nQ 26.21875 -9.421875 24.46875 -12.640625 \r\nQ 22.125 -17 19.09375 -19.015625 \r\nQ 16.0625 -21.046875 11.859375 -21.046875 \r\nQ 9.328125 -21.046875 6.203125 -19.96875 \r\nz\r\n\" id=\"ArialMT-121\"/>\r\n     </defs>\r\n     <g style=\"fill:#262626;\" transform=\"translate(14.357812 164.410938)rotate(-90)scale(0.1 -0.1)\">\r\n      <use xlink:href=\"#ArialMT-85\"/>\r\n      <use x=\"72.216797\" xlink:href=\"#ArialMT-110\"/>\r\n      <use x=\"127.832031\" xlink:href=\"#ArialMT-105\"/>\r\n      <use x=\"150.048828\" xlink:href=\"#ArialMT-116\"/>\r\n      <use x=\"177.832031\" xlink:href=\"#ArialMT-32\"/>\r\n      <use x=\"205.615234\" xlink:href=\"#ArialMT-70\"/>\r\n      <use x=\"266.699219\" xlink:href=\"#ArialMT-114\"/>\r\n      <use x=\"300\" xlink:href=\"#ArialMT-101\"/>\r\n      <use x=\"355.615234\" xlink:href=\"#ArialMT-113\"/>\r\n      <use x=\"411.230469\" xlink:href=\"#ArialMT-117\"/>\r\n      <use x=\"466.845703\" xlink:href=\"#ArialMT-101\"/>\r\n      <use x=\"522.460938\" xlink:href=\"#ArialMT-110\"/>\r\n      <use x=\"578.076172\" xlink:href=\"#ArialMT-99\"/>\r\n      <use x=\"628.076172\" xlink:href=\"#ArialMT-121\"/>\r\n     </g>\r\n    </g>\r\n   </g>\r\n   <g id=\"patch_3\">\r\n    <path clip-path=\"url(#pfc60fb5c34)\" d=\"M 59.363494 239.229375 \r\nL 92.320066 239.229375 \r\nL 92.320066 32.143661 \r\nL 59.363494 32.143661 \r\nz\r\n\" style=\"fill:#0504ab;opacity:0.7;stroke:#ffffff;stroke-linejoin:miter;\"/>\r\n   </g>\r\n   <g id=\"patch_4\">\r\n    <path clip-path=\"url(#pfc60fb5c34)\" d=\"M 98.135932 239.229375 \r\nL 131.092504 239.229375 \r\nL 131.092504 195.860639 \r\nL 98.135932 195.860639 \r\nz\r\n\" style=\"fill:#0504ab;opacity:0.7;stroke:#ffffff;stroke-linejoin:miter;\"/>\r\n   </g>\r\n   <g id=\"patch_5\">\r\n    <path clip-path=\"url(#pfc60fb5c34)\" d=\"M 136.90837 239.229375 \r\nL 169.864942 239.229375 \r\nL 169.864942 221.881881 \r\nL 136.90837 221.881881 \r\nz\r\n\" style=\"fill:#0504ab;opacity:0.7;stroke:#ffffff;stroke-linejoin:miter;\"/>\r\n   </g>\r\n   <g id=\"patch_6\">\r\n    <path clip-path=\"url(#pfc60fb5c34)\" d=\"M 175.680808 239.229375 \r\nL 208.63738 239.229375 \r\nL 208.63738 233.808283 \r\nL 175.680808 233.808283 \r\nz\r\n\" style=\"fill:#0504ab;opacity:0.7;stroke:#ffffff;stroke-linejoin:miter;\"/>\r\n   </g>\r\n   <g id=\"patch_7\">\r\n    <path clip-path=\"url(#pfc60fb5c34)\" d=\"M 214.453245 239.229375 \r\nL 247.409817 239.229375 \r\nL 247.409817 235.97672 \r\nL 214.453245 235.97672 \r\nz\r\n\" style=\"fill:#0504ab;opacity:0.7;stroke:#ffffff;stroke-linejoin:miter;\"/>\r\n   </g>\r\n   <g id=\"patch_8\">\r\n    <path clip-path=\"url(#pfc60fb5c34)\" d=\"M 253.225683 239.229375 \r\nL 286.182255 239.229375 \r\nL 286.182255 239.229375 \r\nL 253.225683 239.229375 \r\nz\r\n\" style=\"fill:#0504ab;opacity:0.7;stroke:#ffffff;stroke-linejoin:miter;\"/>\r\n   </g>\r\n   <g id=\"patch_9\">\r\n    <path clip-path=\"url(#pfc60fb5c34)\" d=\"M 291.998121 239.229375 \r\nL 324.954693 239.229375 \r\nL 324.954693 239.229375 \r\nL 291.998121 239.229375 \r\nz\r\n\" style=\"fill:#0504ab;opacity:0.7;stroke:#ffffff;stroke-linejoin:miter;\"/>\r\n   </g>\r\n   <g id=\"patch_10\">\r\n    <path clip-path=\"url(#pfc60fb5c34)\" d=\"M 330.770559 239.229375 \r\nL 363.727131 239.229375 \r\nL 363.727131 238.145157 \r\nL 330.770559 238.145157 \r\nz\r\n\" style=\"fill:#0504ab;opacity:0.7;stroke:#ffffff;stroke-linejoin:miter;\"/>\r\n   </g>\r\n   <g id=\"patch_11\">\r\n    <path d=\"M 44.145313 239.229375 \r\nL 44.145313 21.789375 \r\n\" style=\"fill:none;stroke:#ffffff;stroke-linecap:square;stroke-linejoin:miter;stroke-width:0.8;\"/>\r\n   </g>\r\n   <g id=\"patch_12\">\r\n    <path d=\"M 378.945312 239.229375 \r\nL 378.945312 21.789375 \r\n\" style=\"fill:none;stroke:#ffffff;stroke-linecap:square;stroke-linejoin:miter;stroke-width:0.8;\"/>\r\n   </g>\r\n   <g id=\"patch_13\">\r\n    <path d=\"M 44.145313 239.229375 \r\nL 378.945312 239.229375 \r\n\" style=\"fill:none;stroke:#ffffff;stroke-linecap:square;stroke-linejoin:miter;stroke-width:0.8;\"/>\r\n   </g>\r\n   <g id=\"patch_14\">\r\n    <path d=\"M 44.145313 21.789375 \r\nL 378.945312 21.789375 \r\n\" style=\"fill:none;stroke:#ffffff;stroke-linecap:square;stroke-linejoin:miter;stroke-width:0.8;\"/>\r\n   </g>\r\n   <g id=\"text_17\">\r\n    <!-- IG Score Distribution -->\r\n    <defs>\r\n     <path d=\"M 9.328125 0 \r\nL 9.328125 71.578125 \r\nL 18.796875 71.578125 \r\nL 18.796875 0 \r\nz\r\n\" id=\"ArialMT-73\"/>\r\n     <path d=\"M 41.21875 28.078125 \r\nL 41.21875 36.46875 \r\nL 71.53125 36.53125 \r\nL 71.53125 9.96875 \r\nQ 64.546875 4.390625 57.125 1.578125 \r\nQ 49.703125 -1.21875 41.890625 -1.21875 \r\nQ 31.34375 -1.21875 22.71875 3.296875 \r\nQ 14.109375 7.8125 9.71875 16.359375 \r\nQ 5.328125 24.90625 5.328125 35.453125 \r\nQ 5.328125 45.90625 9.6875 54.953125 \r\nQ 14.0625 64.015625 22.265625 68.40625 \r\nQ 30.46875 72.796875 41.15625 72.796875 \r\nQ 48.921875 72.796875 55.1875 70.28125 \r\nQ 61.46875 67.78125 65.03125 63.28125 \r\nQ 68.609375 58.796875 70.453125 51.5625 \r\nL 61.921875 49.21875 \r\nQ 60.296875 54.6875 57.90625 57.8125 \r\nQ 55.515625 60.9375 51.0625 62.8125 \r\nQ 46.625 64.703125 41.21875 64.703125 \r\nQ 34.71875 64.703125 29.984375 62.71875 \r\nQ 25.25 60.75 22.34375 57.515625 \r\nQ 19.4375 54.296875 17.828125 50.4375 \r\nQ 15.09375 43.796875 15.09375 36.03125 \r\nQ 15.09375 26.46875 18.390625 20.015625 \r\nQ 21.6875 13.578125 27.984375 10.453125 \r\nQ 34.28125 7.328125 41.359375 7.328125 \r\nQ 47.515625 7.328125 53.375 9.6875 \r\nQ 59.234375 12.0625 62.25 14.75 \r\nL 62.25 28.078125 \r\nz\r\n\" id=\"ArialMT-71\"/>\r\n     <path d=\"M 4.5 23 \r\nL 13.421875 23.78125 \r\nQ 14.0625 18.40625 16.375 14.96875 \r\nQ 18.703125 11.53125 23.578125 9.40625 \r\nQ 28.46875 7.28125 34.578125 7.28125 \r\nQ 39.984375 7.28125 44.140625 8.890625 \r\nQ 48.296875 10.5 50.3125 13.296875 \r\nQ 52.34375 16.109375 52.34375 19.4375 \r\nQ 52.34375 22.796875 50.390625 25.3125 \r\nQ 48.4375 27.828125 43.953125 29.546875 \r\nQ 41.0625 30.671875 31.203125 33.03125 \r\nQ 21.34375 35.40625 17.390625 37.5 \r\nQ 12.25 40.1875 9.734375 44.15625 \r\nQ 7.234375 48.140625 7.234375 53.078125 \r\nQ 7.234375 58.5 10.296875 63.203125 \r\nQ 13.375 67.921875 19.28125 70.359375 \r\nQ 25.203125 72.796875 32.421875 72.796875 \r\nQ 40.375 72.796875 46.453125 70.234375 \r\nQ 52.546875 67.671875 55.8125 62.6875 \r\nQ 59.078125 57.71875 59.328125 51.421875 \r\nL 50.25 50.734375 \r\nQ 49.515625 57.515625 45.28125 60.984375 \r\nQ 41.0625 64.453125 32.8125 64.453125 \r\nQ 24.21875 64.453125 20.28125 61.296875 \r\nQ 16.359375 58.15625 16.359375 53.71875 \r\nQ 16.359375 49.859375 19.140625 47.359375 \r\nQ 21.875 44.875 33.421875 42.265625 \r\nQ 44.96875 39.65625 49.265625 37.703125 \r\nQ 55.515625 34.8125 58.484375 30.390625 \r\nQ 61.46875 25.984375 61.46875 20.21875 \r\nQ 61.46875 14.5 58.203125 9.4375 \r\nQ 54.9375 4.390625 48.796875 1.578125 \r\nQ 42.671875 -1.21875 35.015625 -1.21875 \r\nQ 25.296875 -1.21875 18.71875 1.609375 \r\nQ 12.15625 4.4375 8.421875 10.125 \r\nQ 4.6875 15.828125 4.5 23 \r\nz\r\n\" id=\"ArialMT-83\"/>\r\n     <path d=\"M 3.328125 25.921875 \r\nQ 3.328125 40.328125 11.328125 47.265625 \r\nQ 18.015625 53.03125 27.640625 53.03125 \r\nQ 38.328125 53.03125 45.109375 46.015625 \r\nQ 51.90625 39.015625 51.90625 26.65625 \r\nQ 51.90625 16.65625 48.90625 10.90625 \r\nQ 45.90625 5.171875 40.15625 2 \r\nQ 34.421875 -1.171875 27.640625 -1.171875 \r\nQ 16.75 -1.171875 10.03125 5.8125 \r\nQ 3.328125 12.796875 3.328125 25.921875 \r\nz\r\nM 12.359375 25.921875 \r\nQ 12.359375 15.96875 16.703125 11.015625 \r\nQ 21.046875 6.0625 27.640625 6.0625 \r\nQ 34.1875 6.0625 38.53125 11.03125 \r\nQ 42.875 16.015625 42.875 26.21875 \r\nQ 42.875 35.84375 38.5 40.796875 \r\nQ 34.125 45.75 27.640625 45.75 \r\nQ 21.046875 45.75 16.703125 40.8125 \r\nQ 12.359375 35.890625 12.359375 25.921875 \r\nz\r\n\" id=\"ArialMT-111\"/>\r\n     <path d=\"M 7.71875 0 \r\nL 7.71875 71.578125 \r\nL 32.375 71.578125 \r\nQ 40.71875 71.578125 45.125 70.5625 \r\nQ 51.265625 69.140625 55.609375 65.4375 \r\nQ 61.28125 60.640625 64.078125 53.1875 \r\nQ 66.890625 45.75 66.890625 36.1875 \r\nQ 66.890625 28.03125 64.984375 21.734375 \r\nQ 63.09375 15.4375 60.109375 11.296875 \r\nQ 57.125 7.171875 53.578125 4.796875 \r\nQ 50.046875 2.4375 45.046875 1.21875 \r\nQ 40.046875 0 33.546875 0 \r\nz\r\nM 17.1875 8.453125 \r\nL 32.46875 8.453125 \r\nQ 39.546875 8.453125 43.578125 9.765625 \r\nQ 47.609375 11.078125 50 13.484375 \r\nQ 53.375 16.84375 55.25 22.53125 \r\nQ 57.125 28.21875 57.125 36.328125 \r\nQ 57.125 47.5625 53.4375 53.59375 \r\nQ 49.75 59.625 44.484375 61.671875 \r\nQ 40.671875 63.140625 32.234375 63.140625 \r\nL 17.1875 63.140625 \r\nz\r\n\" id=\"ArialMT-68\"/>\r\n     <path d=\"M 3.078125 15.484375 \r\nL 11.765625 16.84375 \r\nQ 12.5 11.625 15.84375 8.84375 \r\nQ 19.1875 6.0625 25.203125 6.0625 \r\nQ 31.25 6.0625 34.171875 8.515625 \r\nQ 37.109375 10.984375 37.109375 14.3125 \r\nQ 37.109375 17.28125 34.515625 19 \r\nQ 32.71875 20.171875 25.53125 21.96875 \r\nQ 15.875 24.421875 12.140625 26.203125 \r\nQ 8.40625 27.984375 6.46875 31.125 \r\nQ 4.546875 34.28125 4.546875 38.09375 \r\nQ 4.546875 41.546875 6.125 44.5 \r\nQ 7.71875 47.46875 10.453125 49.421875 \r\nQ 12.5 50.921875 16.03125 51.96875 \r\nQ 19.578125 53.03125 23.640625 53.03125 \r\nQ 29.734375 53.03125 34.34375 51.265625 \r\nQ 38.96875 49.515625 41.15625 46.5 \r\nQ 43.359375 43.5 44.1875 38.484375 \r\nL 35.59375 37.3125 \r\nQ 35.015625 41.3125 32.203125 43.546875 \r\nQ 29.390625 45.796875 24.265625 45.796875 \r\nQ 18.21875 45.796875 15.625 43.796875 \r\nQ 13.03125 41.796875 13.03125 39.109375 \r\nQ 13.03125 37.40625 14.109375 36.03125 \r\nQ 15.1875 34.625 17.484375 33.6875 \r\nQ 18.796875 33.203125 25.25 31.453125 \r\nQ 34.578125 28.953125 38.25 27.359375 \r\nQ 41.9375 25.78125 44.03125 22.75 \r\nQ 46.140625 19.734375 46.140625 15.234375 \r\nQ 46.140625 10.84375 43.578125 6.953125 \r\nQ 41.015625 3.078125 36.171875 0.953125 \r\nQ 31.34375 -1.171875 25.25 -1.171875 \r\nQ 15.140625 -1.171875 9.84375 3.03125 \r\nQ 4.546875 7.234375 3.078125 15.484375 \r\nz\r\n\" id=\"ArialMT-115\"/>\r\n     <path d=\"M 14.703125 0 \r\nL 6.546875 0 \r\nL 6.546875 71.578125 \r\nL 15.328125 71.578125 \r\nL 15.328125 46.046875 \r\nQ 20.90625 53.03125 29.546875 53.03125 \r\nQ 34.328125 53.03125 38.59375 51.09375 \r\nQ 42.875 49.171875 45.625 45.671875 \r\nQ 48.390625 42.1875 49.953125 37.25 \r\nQ 51.515625 32.328125 51.515625 26.703125 \r\nQ 51.515625 13.375 44.921875 6.09375 \r\nQ 38.328125 -1.171875 29.109375 -1.171875 \r\nQ 19.921875 -1.171875 14.703125 6.5 \r\nz\r\nM 14.59375 26.3125 \r\nQ 14.59375 17 17.140625 12.84375 \r\nQ 21.296875 6.0625 28.375 6.0625 \r\nQ 34.125 6.0625 38.328125 11.0625 \r\nQ 42.53125 16.0625 42.53125 25.984375 \r\nQ 42.53125 36.140625 38.5 40.96875 \r\nQ 34.46875 45.796875 28.765625 45.796875 \r\nQ 23 45.796875 18.796875 40.796875 \r\nQ 14.59375 35.796875 14.59375 26.3125 \r\nz\r\n\" id=\"ArialMT-98\"/>\r\n    </defs>\r\n    <g style=\"fill:#262626;\" transform=\"translate(156.194375 15.789375)scale(0.12 -0.12)\">\r\n     <use xlink:href=\"#ArialMT-73\"/>\r\n     <use x=\"27.783203\" xlink:href=\"#ArialMT-71\"/>\r\n     <use x=\"105.566406\" xlink:href=\"#ArialMT-32\"/>\r\n     <use x=\"133.349609\" xlink:href=\"#ArialMT-83\"/>\r\n     <use x=\"200.048828\" xlink:href=\"#ArialMT-99\"/>\r\n     <use x=\"250.048828\" xlink:href=\"#ArialMT-111\"/>\r\n     <use x=\"305.664062\" xlink:href=\"#ArialMT-114\"/>\r\n     <use x=\"338.964844\" xlink:href=\"#ArialMT-101\"/>\r\n     <use x=\"394.580078\" xlink:href=\"#ArialMT-32\"/>\r\n     <use x=\"422.363281\" xlink:href=\"#ArialMT-68\"/>\r\n     <use x=\"494.580078\" xlink:href=\"#ArialMT-105\"/>\r\n     <use x=\"516.796875\" xlink:href=\"#ArialMT-115\"/>\r\n     <use x=\"566.796875\" xlink:href=\"#ArialMT-116\"/>\r\n     <use x=\"594.580078\" xlink:href=\"#ArialMT-114\"/>\r\n     <use x=\"627.880859\" xlink:href=\"#ArialMT-105\"/>\r\n     <use x=\"650.097656\" xlink:href=\"#ArialMT-98\"/>\r\n     <use x=\"705.712891\" xlink:href=\"#ArialMT-117\"/>\r\n     <use x=\"761.328125\" xlink:href=\"#ArialMT-116\"/>\r\n     <use x=\"789.111328\" xlink:href=\"#ArialMT-105\"/>\r\n     <use x=\"811.328125\" xlink:href=\"#ArialMT-111\"/>\r\n     <use x=\"866.943359\" xlink:href=\"#ArialMT-110\"/>\r\n    </g>\r\n   </g>\r\n  </g>\r\n </g>\r\n <defs>\r\n  <clipPath id=\"pfc60fb5c34\">\r\n   <rect height=\"217.44\" width=\"334.8\" x=\"44.145313\" y=\"21.789375\"/>\r\n  </clipPath>\r\n </defs>\r\n</svg>\r\n",
      "image/png": "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\n"
     },
     "metadata": {}
    }
   ],
   "source": [
    "mat=np.load(\"../IG/alexnet/IG_Conv2d_Layer10_class_0121.npy\")\n",
    "print(mat.shape)\n",
    "q=np.quantile(mat,0.90)\n",
    "print(q)\n",
    "itemindex = np.where(mat>q)\n",
    "print(np.mean(mat))\n",
    "\n",
    "\n",
    "import matplotlib.pyplot as plt\n",
    "n, bins, patches = plt.hist(mat, bins=8, color='#0504ab',\n",
    "                            alpha=0.7, rwidth=0.85)\n",
    "plt.grid(axis='y', alpha=0.75)\n",
    "plt.xlabel('Value')\n",
    "plt.ylabel('Unit Frequency')\n",
    "plt.title('IG Score Distribution')"
   ]
  },
  {
   "cell_type": "code",
   "execution_count": 8,
   "metadata": {},
   "outputs": [
    {
     "output_type": "stream",
     "name": "stdout",
     "text": [
      "[[False False False False]\n [False False False False]]\n"
     ]
    }
   ],
   "source": [
    "import numpy as np\n",
    "r = np.zeros((2,4))\n",
    "r[1,1] = np.nan\n",
    "r[np.isnan(r)]=0\n",
    "print(np.isnan(r))"
   "execution_count": 91,
   "metadata": {},
   "outputs": [
    {
     "output_type": "execute_result",
     "data": {
      "text/plain": [
       "<matplotlib.axes._subplots.AxesSubplot at 0x1c784f1cb88>"
      ]
     },
     "metadata": {},
     "execution_count": 91
    },
    {
     "output_type": "display_data",
     "data": {
      "text/plain": "<Figure size 432x288 with 1 Axes>",
      "image/svg+xml": "<?xml version=\"1.0\" encoding=\"utf-8\" standalone=\"no\"?>\r\n<!DOCTYPE svg PUBLIC \"-//W3C//DTD SVG 1.1//EN\"\r\n  \"http://www.w3.org/Graphics/SVG/1.1/DTD/svg11.dtd\">\r\n<!-- Created with matplotlib (https://matplotlib.org/) -->\r\n<svg height=\"247.985312pt\" version=\"1.1\" viewBox=\"0 0 370.1 247.985312\" width=\"370.1pt\" xmlns=\"http://www.w3.org/2000/svg\" xmlns:xlink=\"http://www.w3.org/1999/xlink\">\r\n <defs>\r\n  <style type=\"text/css\">\r\n*{stroke-linecap:butt;stroke-linejoin:round;}\r\n  </style>\r\n </defs>\r\n <g id=\"figure_1\">\r\n  <g id=\"patch_1\">\r\n   <path d=\"M 0 247.985312 \r\nL 370.1 247.985312 \r\nL 370.1 0 \r\nL 0 0 \r\nz\r\n\" style=\"fill:#ffffff;\"/>\r\n  </g>\r\n  <g id=\"axes_1\">\r\n   <g id=\"patch_2\">\r\n    <path d=\"M 28.1 224.64 \r\nL 362.9 224.64 \r\nL 362.9 7.2 \r\nL 28.1 7.2 \r\nz\r\n\" style=\"fill:#eaeaf2;\"/>\r\n   </g>\r\n   <g id=\"matplotlib.axis_1\">\r\n    <g id=\"xtick_1\">\r\n     <g id=\"line2d_1\">\r\n      <path clip-path=\"url(#pea60c3a0be)\" d=\"M 61.468574 224.64 \r\nL 61.468574 7.2 \r\n\" style=\"fill:none;stroke:#ffffff;stroke-linecap:round;stroke-width:0.8;\"/>\r\n     </g>\r\n     <g id=\"text_1\">\r\n      <!-- 0 -->\r\n      <defs>\r\n       <path d=\"M 4.15625 35.296875 \r\nQ 4.15625 48 6.765625 55.734375 \r\nQ 9.375 63.484375 14.515625 67.671875 \r\nQ 19.671875 71.875 27.484375 71.875 \r\nQ 33.25 71.875 37.59375 69.546875 \r\nQ 41.9375 67.234375 44.765625 62.859375 \r\nQ 47.609375 58.5 49.21875 52.21875 \r\nQ 50.828125 45.953125 50.828125 35.296875 \r\nQ 50.828125 22.703125 48.234375 14.96875 \r\nQ 45.65625 7.234375 40.5 3 \r\nQ 35.359375 -1.21875 27.484375 -1.21875 \r\nQ 17.140625 -1.21875 11.234375 6.203125 \r\nQ 4.15625 15.140625 4.15625 35.296875 \r\nz\r\nM 13.1875 35.296875 \r\nQ 13.1875 17.671875 17.3125 11.828125 \r\nQ 21.4375 6 27.484375 6 \r\nQ 33.546875 6 37.671875 11.859375 \r\nQ 41.796875 17.71875 41.796875 35.296875 \r\nQ 41.796875 52.984375 37.671875 58.78125 \r\nQ 33.546875 64.59375 27.390625 64.59375 \r\nQ 21.34375 64.59375 17.71875 59.46875 \r\nQ 13.1875 52.9375 13.1875 35.296875 \r\nz\r\n\" id=\"ArialMT-48\"/>\r\n      </defs>\r\n      <g style=\"fill:#262626;\" transform=\"translate(58.688106 238.797812)scale(0.1 -0.1)\">\r\n       <use xlink:href=\"#ArialMT-48\"/>\r\n      </g>\r\n     </g>\r\n    </g>\r\n    <g id=\"xtick_2\">\r\n     <g id=\"line2d_2\">\r\n      <path clip-path=\"url(#pea60c3a0be)\" d=\"M 117.988867 224.64 \r\nL 117.988867 7.2 \r\n\" style=\"fill:none;stroke:#ffffff;stroke-linecap:round;stroke-width:0.8;\"/>\r\n     </g>\r\n     <g id=\"text_2\">\r\n      <!-- 1 -->\r\n      <defs>\r\n       <path d=\"M 37.25 0 \r\nL 28.46875 0 \r\nL 28.46875 56 \r\nQ 25.296875 52.984375 20.140625 49.953125 \r\nQ 14.984375 46.921875 10.890625 45.40625 \r\nL 10.890625 53.90625 \r\nQ 18.265625 57.375 23.78125 62.296875 \r\nQ 29.296875 67.234375 31.59375 71.875 \r\nL 37.25 71.875 \r\nz\r\n\" id=\"ArialMT-49\"/>\r\n      </defs>\r\n      <g style=\"fill:#262626;\" transform=\"translate(115.208398 238.797812)scale(0.1 -0.1)\">\r\n       <use xlink:href=\"#ArialMT-49\"/>\r\n      </g>\r\n     </g>\r\n    </g>\r\n    <g id=\"xtick_3\">\r\n     <g id=\"line2d_3\">\r\n      <path clip-path=\"url(#pea60c3a0be)\" d=\"M 174.509159 224.64 \r\nL 174.509159 7.2 \r\n\" style=\"fill:none;stroke:#ffffff;stroke-linecap:round;stroke-width:0.8;\"/>\r\n     </g>\r\n     <g id=\"text_3\">\r\n      <!-- 2 -->\r\n      <defs>\r\n       <path d=\"M 50.34375 8.453125 \r\nL 50.34375 0 \r\nL 3.03125 0 \r\nQ 2.9375 3.171875 4.046875 6.109375 \r\nQ 5.859375 10.9375 9.828125 15.625 \r\nQ 13.8125 20.3125 21.34375 26.46875 \r\nQ 33.015625 36.03125 37.109375 41.625 \r\nQ 41.21875 47.21875 41.21875 52.203125 \r\nQ 41.21875 57.421875 37.46875 61 \r\nQ 33.734375 64.59375 27.734375 64.59375 \r\nQ 21.390625 64.59375 17.578125 60.78125 \r\nQ 13.765625 56.984375 13.71875 50.25 \r\nL 4.6875 51.171875 \r\nQ 5.609375 61.28125 11.65625 66.578125 \r\nQ 17.71875 71.875 27.9375 71.875 \r\nQ 38.234375 71.875 44.234375 66.15625 \r\nQ 50.25 60.453125 50.25 52 \r\nQ 50.25 47.703125 48.484375 43.546875 \r\nQ 46.734375 39.40625 42.65625 34.8125 \r\nQ 38.578125 30.21875 29.109375 22.21875 \r\nQ 21.1875 15.578125 18.9375 13.203125 \r\nQ 16.703125 10.84375 15.234375 8.453125 \r\nz\r\n\" id=\"ArialMT-50\"/>\r\n      </defs>\r\n      <g style=\"fill:#262626;\" transform=\"translate(171.728691 238.797812)scale(0.1 -0.1)\">\r\n       <use xlink:href=\"#ArialMT-50\"/>\r\n      </g>\r\n     </g>\r\n    </g>\r\n    <g id=\"xtick_4\">\r\n     <g id=\"line2d_4\">\r\n      <path clip-path=\"url(#pea60c3a0be)\" d=\"M 231.029452 224.64 \r\nL 231.029452 7.2 \r\n\" style=\"fill:none;stroke:#ffffff;stroke-linecap:round;stroke-width:0.8;\"/>\r\n     </g>\r\n     <g id=\"text_4\">\r\n      <!-- 3 -->\r\n      <defs>\r\n       <path d=\"M 4.203125 18.890625 \r\nL 12.984375 20.0625 \r\nQ 14.5 12.59375 18.140625 9.296875 \r\nQ 21.78125 6 27 6 \r\nQ 33.203125 6 37.46875 10.296875 \r\nQ 41.75 14.59375 41.75 20.953125 \r\nQ 41.75 27 37.796875 30.921875 \r\nQ 33.84375 34.859375 27.734375 34.859375 \r\nQ 25.25 34.859375 21.53125 33.890625 \r\nL 22.515625 41.609375 \r\nQ 23.390625 41.5 23.921875 41.5 \r\nQ 29.546875 41.5 34.03125 44.421875 \r\nQ 38.53125 47.359375 38.53125 53.46875 \r\nQ 38.53125 58.296875 35.25 61.46875 \r\nQ 31.984375 64.65625 26.8125 64.65625 \r\nQ 21.6875 64.65625 18.265625 61.421875 \r\nQ 14.84375 58.203125 13.875 51.765625 \r\nL 5.078125 53.328125 \r\nQ 6.6875 62.15625 12.390625 67.015625 \r\nQ 18.109375 71.875 26.609375 71.875 \r\nQ 32.46875 71.875 37.390625 69.359375 \r\nQ 42.328125 66.84375 44.9375 62.5 \r\nQ 47.5625 58.15625 47.5625 53.265625 \r\nQ 47.5625 48.640625 45.0625 44.828125 \r\nQ 42.578125 41.015625 37.703125 38.765625 \r\nQ 44.046875 37.3125 47.5625 32.6875 \r\nQ 51.078125 28.078125 51.078125 21.140625 \r\nQ 51.078125 11.765625 44.234375 5.25 \r\nQ 37.40625 -1.265625 26.953125 -1.265625 \r\nQ 17.53125 -1.265625 11.296875 4.34375 \r\nQ 5.078125 9.96875 4.203125 18.890625 \r\nz\r\n\" id=\"ArialMT-51\"/>\r\n      </defs>\r\n      <g style=\"fill:#262626;\" transform=\"translate(228.248983 238.797812)scale(0.1 -0.1)\">\r\n       <use xlink:href=\"#ArialMT-51\"/>\r\n      </g>\r\n     </g>\r\n    </g>\r\n    <g id=\"xtick_5\">\r\n     <g id=\"line2d_5\">\r\n      <path clip-path=\"url(#pea60c3a0be)\" d=\"M 287.549744 224.64 \r\nL 287.549744 7.2 \r\n\" style=\"fill:none;stroke:#ffffff;stroke-linecap:round;stroke-width:0.8;\"/>\r\n     </g>\r\n     <g id=\"text_5\">\r\n      <!-- 4 -->\r\n      <defs>\r\n       <path d=\"M 32.328125 0 \r\nL 32.328125 17.140625 \r\nL 1.265625 17.140625 \r\nL 1.265625 25.203125 \r\nL 33.9375 71.578125 \r\nL 41.109375 71.578125 \r\nL 41.109375 25.203125 \r\nL 50.78125 25.203125 \r\nL 50.78125 17.140625 \r\nL 41.109375 17.140625 \r\nL 41.109375 0 \r\nz\r\nM 32.328125 25.203125 \r\nL 32.328125 57.46875 \r\nL 9.90625 25.203125 \r\nz\r\n\" id=\"ArialMT-52\"/>\r\n      </defs>\r\n      <g style=\"fill:#262626;\" transform=\"translate(284.769276 238.797812)scale(0.1 -0.1)\">\r\n       <use xlink:href=\"#ArialMT-52\"/>\r\n      </g>\r\n     </g>\r\n    </g>\r\n    <g id=\"xtick_6\">\r\n     <g id=\"line2d_6\">\r\n      <path clip-path=\"url(#pea60c3a0be)\" d=\"M 344.070037 224.64 \r\nL 344.070037 7.2 \r\n\" style=\"fill:none;stroke:#ffffff;stroke-linecap:round;stroke-width:0.8;\"/>\r\n     </g>\r\n     <g id=\"text_6\">\r\n      <!-- 5 -->\r\n      <defs>\r\n       <path d=\"M 4.15625 18.75 \r\nL 13.375 19.53125 \r\nQ 14.40625 12.796875 18.140625 9.390625 \r\nQ 21.875 6 27.15625 6 \r\nQ 33.5 6 37.890625 10.78125 \r\nQ 42.28125 15.578125 42.28125 23.484375 \r\nQ 42.28125 31 38.0625 35.34375 \r\nQ 33.84375 39.703125 27 39.703125 \r\nQ 22.75 39.703125 19.328125 37.765625 \r\nQ 15.921875 35.84375 13.96875 32.765625 \r\nL 5.71875 33.84375 \r\nL 12.640625 70.609375 \r\nL 48.25 70.609375 \r\nL 48.25 62.203125 \r\nL 19.671875 62.203125 \r\nL 15.828125 42.96875 \r\nQ 22.265625 47.46875 29.34375 47.46875 \r\nQ 38.71875 47.46875 45.15625 40.96875 \r\nQ 51.609375 34.46875 51.609375 24.265625 \r\nQ 51.609375 14.546875 45.953125 7.46875 \r\nQ 39.0625 -1.21875 27.15625 -1.21875 \r\nQ 17.390625 -1.21875 11.203125 4.25 \r\nQ 5.03125 9.71875 4.15625 18.75 \r\nz\r\n\" id=\"ArialMT-53\"/>\r\n      </defs>\r\n      <g style=\"fill:#262626;\" transform=\"translate(341.289568 238.797812)scale(0.1 -0.1)\">\r\n       <use xlink:href=\"#ArialMT-53\"/>\r\n      </g>\r\n     </g>\r\n    </g>\r\n   </g>\r\n   <g id=\"matplotlib.axis_2\">\r\n    <g id=\"ytick_1\">\r\n     <g id=\"line2d_7\">\r\n      <path clip-path=\"url(#pea60c3a0be)\" d=\"M 28.1 224.64 \r\nL 362.9 224.64 \r\n\" style=\"fill:none;stroke:#ffffff;stroke-linecap:round;stroke-width:0.8;\"/>\r\n     </g>\r\n     <g id=\"text_7\">\r\n      <!-- 0.0 -->\r\n      <defs>\r\n       <path d=\"M 9.078125 0 \r\nL 9.078125 10.015625 \r\nL 19.09375 10.015625 \r\nL 19.09375 0 \r\nz\r\n\" id=\"ArialMT-46\"/>\r\n      </defs>\r\n      <g style=\"fill:#262626;\" transform=\"translate(7.2 228.218906)scale(0.1 -0.1)\">\r\n       <use xlink:href=\"#ArialMT-48\"/>\r\n       <use x=\"55.615234\" xlink:href=\"#ArialMT-46\"/>\r\n       <use x=\"83.398438\" xlink:href=\"#ArialMT-48\"/>\r\n      </g>\r\n     </g>\r\n    </g>\r\n    <g id=\"ytick_2\">\r\n     <g id=\"line2d_8\">\r\n      <path clip-path=\"url(#pea60c3a0be)\" d=\"M 28.1 178.147205 \r\nL 362.9 178.147205 \r\n\" style=\"fill:none;stroke:#ffffff;stroke-linecap:round;stroke-width:0.8;\"/>\r\n     </g>\r\n     <g id=\"text_8\">\r\n      <!-- 0.5 -->\r\n      <g style=\"fill:#262626;\" transform=\"translate(7.2 181.726111)scale(0.1 -0.1)\">\r\n       <use xlink:href=\"#ArialMT-48\"/>\r\n       <use x=\"55.615234\" xlink:href=\"#ArialMT-46\"/>\r\n       <use x=\"83.398438\" xlink:href=\"#ArialMT-53\"/>\r\n      </g>\r\n     </g>\r\n    </g>\r\n    <g id=\"ytick_3\">\r\n     <g id=\"line2d_9\">\r\n      <path clip-path=\"url(#pea60c3a0be)\" d=\"M 28.1 131.65441 \r\nL 362.9 131.65441 \r\n\" style=\"fill:none;stroke:#ffffff;stroke-linecap:round;stroke-width:0.8;\"/>\r\n     </g>\r\n     <g id=\"text_9\">\r\n      <!-- 1.0 -->\r\n      <g style=\"fill:#262626;\" transform=\"translate(7.2 135.233316)scale(0.1 -0.1)\">\r\n       <use xlink:href=\"#ArialMT-49\"/>\r\n       <use x=\"55.615234\" xlink:href=\"#ArialMT-46\"/>\r\n       <use x=\"83.398438\" xlink:href=\"#ArialMT-48\"/>\r\n      </g>\r\n     </g>\r\n    </g>\r\n    <g id=\"ytick_4\">\r\n     <g id=\"line2d_10\">\r\n      <path clip-path=\"url(#pea60c3a0be)\" d=\"M 28.1 85.161615 \r\nL 362.9 85.161615 \r\n\" style=\"fill:none;stroke:#ffffff;stroke-linecap:round;stroke-width:0.8;\"/>\r\n     </g>\r\n     <g id=\"text_10\">\r\n      <!-- 1.5 -->\r\n      <g style=\"fill:#262626;\" transform=\"translate(7.2 88.740521)scale(0.1 -0.1)\">\r\n       <use xlink:href=\"#ArialMT-49\"/>\r\n       <use x=\"55.615234\" xlink:href=\"#ArialMT-46\"/>\r\n       <use x=\"83.398438\" xlink:href=\"#ArialMT-53\"/>\r\n      </g>\r\n     </g>\r\n    </g>\r\n    <g id=\"ytick_5\">\r\n     <g id=\"line2d_11\">\r\n      <path clip-path=\"url(#pea60c3a0be)\" d=\"M 28.1 38.66882 \r\nL 362.9 38.66882 \r\n\" style=\"fill:none;stroke:#ffffff;stroke-linecap:round;stroke-width:0.8;\"/>\r\n     </g>\r\n     <g id=\"text_11\">\r\n      <!-- 2.0 -->\r\n      <g style=\"fill:#262626;\" transform=\"translate(7.2 42.247727)scale(0.1 -0.1)\">\r\n       <use xlink:href=\"#ArialMT-50\"/>\r\n       <use x=\"55.615234\" xlink:href=\"#ArialMT-46\"/>\r\n       <use x=\"83.398438\" xlink:href=\"#ArialMT-48\"/>\r\n      </g>\r\n     </g>\r\n    </g>\r\n   </g>\r\n   <g id=\"patch_3\">\r\n    <path clip-path=\"url(#pea60c3a0be)\" d=\"M 61.468574 224.64 \r\nL 68.341981 224.64 \r\nL 68.341981 17.554286 \r\nL 61.468574 17.554286 \r\nz\r\n\" style=\"fill:#1f77b4;opacity:0.4;stroke:#ffffff;stroke-linejoin:miter;\"/>\r\n   </g>\r\n   <g id=\"patch_4\">\r\n    <path clip-path=\"url(#pea60c3a0be)\" d=\"M 68.341981 224.64 \r\nL 75.215387 224.64 \r\nL 75.215387 117.114725 \r\nL 68.341981 117.114725 \r\nz\r\n\" style=\"fill:#1f77b4;opacity:0.4;stroke:#ffffff;stroke-linejoin:miter;\"/>\r\n   </g>\r\n   <g id=\"patch_5\">\r\n    <path clip-path=\"url(#pea60c3a0be)\" d=\"M 75.215387 224.64 \r\nL 82.088794 224.64 \r\nL 82.088794 97.202637 \r\nL 75.215387 97.202637 \r\nz\r\n\" style=\"fill:#1f77b4;opacity:0.4;stroke:#ffffff;stroke-linejoin:miter;\"/>\r\n   </g>\r\n   <g id=\"patch_6\">\r\n    <path clip-path=\"url(#pea60c3a0be)\" d=\"M 82.088794 224.64 \r\nL 88.9622 224.64 \r\nL 88.9622 135.035604 \r\nL 82.088794 135.035604 \r\nz\r\n\" style=\"fill:#1f77b4;opacity:0.4;stroke:#ffffff;stroke-linejoin:miter;\"/>\r\n   </g>\r\n   <g id=\"patch_7\">\r\n    <path clip-path=\"url(#pea60c3a0be)\" d=\"M 88.9622 224.64 \r\nL 95.835607 224.64 \r\nL 95.835607 164.903736 \r\nL 88.9622 164.903736 \r\nz\r\n\" style=\"fill:#1f77b4;opacity:0.4;stroke:#ffffff;stroke-linejoin:miter;\"/>\r\n   </g>\r\n   <g id=\"patch_8\">\r\n    <path clip-path=\"url(#pea60c3a0be)\" d=\"M 95.835607 224.64 \r\nL 102.709013 224.64 \r\nL 102.709013 170.877363 \r\nL 95.835607 170.877363 \r\nz\r\n\" style=\"fill:#1f77b4;opacity:0.4;stroke:#ffffff;stroke-linejoin:miter;\"/>\r\n   </g>\r\n   <g id=\"patch_9\">\r\n    <path clip-path=\"url(#pea60c3a0be)\" d=\"M 102.709013 224.64 \r\nL 109.582419 224.64 \r\nL 109.582419 204.727912 \r\nL 102.709013 204.727912 \r\nz\r\n\" style=\"fill:#1f77b4;opacity:0.4;stroke:#ffffff;stroke-linejoin:miter;\"/>\r\n   </g>\r\n   <g id=\"patch_10\">\r\n    <path clip-path=\"url(#pea60c3a0be)\" d=\"M 109.582419 224.64 \r\nL 116.455826 224.64 \r\nL 116.455826 202.736703 \r\nL 109.582419 202.736703 \r\nz\r\n\" style=\"fill:#1f77b4;opacity:0.4;stroke:#ffffff;stroke-linejoin:miter;\"/>\r\n   </g>\r\n   <g id=\"patch_11\">\r\n    <path clip-path=\"url(#pea60c3a0be)\" d=\"M 116.455826 224.64 \r\nL 123.329232 224.64 \r\nL 123.329232 204.727912 \r\nL 116.455826 204.727912 \r\nz\r\n\" style=\"fill:#1f77b4;opacity:0.4;stroke:#ffffff;stroke-linejoin:miter;\"/>\r\n   </g>\r\n   <g id=\"patch_12\">\r\n    <path clip-path=\"url(#pea60c3a0be)\" d=\"M 123.329232 224.64 \r\nL 130.202639 224.64 \r\nL 130.202639 208.71033 \r\nL 123.329232 208.71033 \r\nz\r\n\" style=\"fill:#1f77b4;opacity:0.4;stroke:#ffffff;stroke-linejoin:miter;\"/>\r\n   </g>\r\n   <g id=\"patch_13\">\r\n    <path clip-path=\"url(#pea60c3a0be)\" d=\"M 130.202639 224.64 \r\nL 137.076045 224.64 \r\nL 137.076045 222.648791 \r\nL 130.202639 222.648791 \r\nz\r\n\" style=\"fill:#1f77b4;opacity:0.4;stroke:#ffffff;stroke-linejoin:miter;\"/>\r\n   </g>\r\n   <g id=\"patch_14\">\r\n    <path clip-path=\"url(#pea60c3a0be)\" d=\"M 137.076045 224.64 \r\nL 143.949452 224.64 \r\nL 143.949452 206.719121 \r\nL 137.076045 206.719121 \r\nz\r\n\" style=\"fill:#1f77b4;opacity:0.4;stroke:#ffffff;stroke-linejoin:miter;\"/>\r\n   </g>\r\n   <g id=\"patch_15\">\r\n    <path clip-path=\"url(#pea60c3a0be)\" d=\"M 143.949452 224.64 \r\nL 150.822858 224.64 \r\nL 150.822858 222.648791 \r\nL 143.949452 222.648791 \r\nz\r\n\" style=\"fill:#1f77b4;opacity:0.4;stroke:#ffffff;stroke-linejoin:miter;\"/>\r\n   </g>\r\n   <g id=\"patch_16\">\r\n    <path clip-path=\"url(#pea60c3a0be)\" d=\"M 150.822858 224.64 \r\nL 157.696265 224.64 \r\nL 157.696265 218.666374 \r\nL 150.822858 218.666374 \r\nz\r\n\" style=\"fill:#1f77b4;opacity:0.4;stroke:#ffffff;stroke-linejoin:miter;\"/>\r\n   </g>\r\n   <g id=\"patch_17\">\r\n    <path clip-path=\"url(#pea60c3a0be)\" d=\"M 157.696265 224.64 \r\nL 164.569671 224.64 \r\nL 164.569671 220.657582 \r\nL 157.696265 220.657582 \r\nz\r\n\" style=\"fill:#1f77b4;opacity:0.4;stroke:#ffffff;stroke-linejoin:miter;\"/>\r\n   </g>\r\n   <g id=\"patch_18\">\r\n    <path clip-path=\"url(#pea60c3a0be)\" d=\"M 164.569671 224.64 \r\nL 171.443077 224.64 \r\nL 171.443077 222.648791 \r\nL 164.569671 222.648791 \r\nz\r\n\" style=\"fill:#1f77b4;opacity:0.4;stroke:#ffffff;stroke-linejoin:miter;\"/>\r\n   </g>\r\n   <g id=\"patch_19\">\r\n    <path clip-path=\"url(#pea60c3a0be)\" d=\"M 171.443077 224.64 \r\nL 178.316484 224.64 \r\nL 178.316484 224.64 \r\nL 171.443077 224.64 \r\nz\r\n\" style=\"fill:#1f77b4;opacity:0.4;stroke:#ffffff;stroke-linejoin:miter;\"/>\r\n   </g>\r\n   <g id=\"patch_20\">\r\n    <path clip-path=\"url(#pea60c3a0be)\" d=\"M 178.316484 224.64 \r\nL 185.18989 224.64 \r\nL 185.18989 224.64 \r\nL 178.316484 224.64 \r\nz\r\n\" style=\"fill:#1f77b4;opacity:0.4;stroke:#ffffff;stroke-linejoin:miter;\"/>\r\n   </g>\r\n   <g id=\"patch_21\">\r\n    <path clip-path=\"url(#pea60c3a0be)\" d=\"M 185.18989 224.64 \r\nL 192.063297 224.64 \r\nL 192.063297 224.64 \r\nL 185.18989 224.64 \r\nz\r\n\" style=\"fill:#1f77b4;opacity:0.4;stroke:#ffffff;stroke-linejoin:miter;\"/>\r\n   </g>\r\n   <g id=\"patch_22\">\r\n    <path clip-path=\"url(#pea60c3a0be)\" d=\"M 192.063297 224.64 \r\nL 198.936703 224.64 \r\nL 198.936703 224.64 \r\nL 192.063297 224.64 \r\nz\r\n\" style=\"fill:#1f77b4;opacity:0.4;stroke:#ffffff;stroke-linejoin:miter;\"/>\r\n   </g>\r\n   <g id=\"patch_23\">\r\n    <path clip-path=\"url(#pea60c3a0be)\" d=\"M 198.936703 224.64 \r\nL 205.81011 224.64 \r\nL 205.81011 224.64 \r\nL 198.936703 224.64 \r\nz\r\n\" style=\"fill:#1f77b4;opacity:0.4;stroke:#ffffff;stroke-linejoin:miter;\"/>\r\n   </g>\r\n   <g id=\"patch_24\">\r\n    <path clip-path=\"url(#pea60c3a0be)\" d=\"M 205.81011 224.64 \r\nL 212.683516 224.64 \r\nL 212.683516 224.64 \r\nL 205.81011 224.64 \r\nz\r\n\" style=\"fill:#1f77b4;opacity:0.4;stroke:#ffffff;stroke-linejoin:miter;\"/>\r\n   </g>\r\n   <g id=\"patch_25\">\r\n    <path clip-path=\"url(#pea60c3a0be)\" d=\"M 212.683516 224.64 \r\nL 219.556923 224.64 \r\nL 219.556923 224.64 \r\nL 212.683516 224.64 \r\nz\r\n\" style=\"fill:#1f77b4;opacity:0.4;stroke:#ffffff;stroke-linejoin:miter;\"/>\r\n   </g>\r\n   <g id=\"patch_26\">\r\n    <path clip-path=\"url(#pea60c3a0be)\" d=\"M 219.556923 224.64 \r\nL 226.430329 224.64 \r\nL 226.430329 222.648791 \r\nL 219.556923 222.648791 \r\nz\r\n\" style=\"fill:#1f77b4;opacity:0.4;stroke:#ffffff;stroke-linejoin:miter;\"/>\r\n   </g>\r\n   <g id=\"patch_27\">\r\n    <path clip-path=\"url(#pea60c3a0be)\" d=\"M 226.430329 224.64 \r\nL 233.303735 224.64 \r\nL 233.303735 224.64 \r\nL 226.430329 224.64 \r\nz\r\n\" style=\"fill:#1f77b4;opacity:0.4;stroke:#ffffff;stroke-linejoin:miter;\"/>\r\n   </g>\r\n   <g id=\"patch_28\">\r\n    <path clip-path=\"url(#pea60c3a0be)\" d=\"M 233.303735 224.64 \r\nL 240.177142 224.64 \r\nL 240.177142 224.64 \r\nL 233.303735 224.64 \r\nz\r\n\" style=\"fill:#1f77b4;opacity:0.4;stroke:#ffffff;stroke-linejoin:miter;\"/>\r\n   </g>\r\n   <g id=\"patch_29\">\r\n    <path clip-path=\"url(#pea60c3a0be)\" d=\"M 240.177142 224.64 \r\nL 247.050548 224.64 \r\nL 247.050548 224.64 \r\nL 240.177142 224.64 \r\nz\r\n\" style=\"fill:#1f77b4;opacity:0.4;stroke:#ffffff;stroke-linejoin:miter;\"/>\r\n   </g>\r\n   <g id=\"patch_30\">\r\n    <path clip-path=\"url(#pea60c3a0be)\" d=\"M 247.050548 224.64 \r\nL 253.923955 224.64 \r\nL 253.923955 220.657582 \r\nL 247.050548 220.657582 \r\nz\r\n\" style=\"fill:#1f77b4;opacity:0.4;stroke:#ffffff;stroke-linejoin:miter;\"/>\r\n   </g>\r\n   <g id=\"patch_31\">\r\n    <path clip-path=\"url(#pea60c3a0be)\" d=\"M 253.923955 224.64 \r\nL 260.797361 224.64 \r\nL 260.797361 224.64 \r\nL 253.923955 224.64 \r\nz\r\n\" style=\"fill:#1f77b4;opacity:0.4;stroke:#ffffff;stroke-linejoin:miter;\"/>\r\n   </g>\r\n   <g id=\"patch_32\">\r\n    <path clip-path=\"url(#pea60c3a0be)\" d=\"M 260.797361 224.64 \r\nL 267.670768 224.64 \r\nL 267.670768 224.64 \r\nL 260.797361 224.64 \r\nz\r\n\" style=\"fill:#1f77b4;opacity:0.4;stroke:#ffffff;stroke-linejoin:miter;\"/>\r\n   </g>\r\n   <g id=\"patch_33\">\r\n    <path clip-path=\"url(#pea60c3a0be)\" d=\"M 267.670768 224.64 \r\nL 274.544174 224.64 \r\nL 274.544174 224.64 \r\nL 267.670768 224.64 \r\nz\r\n\" style=\"fill:#1f77b4;opacity:0.4;stroke:#ffffff;stroke-linejoin:miter;\"/>\r\n   </g>\r\n   <g id=\"patch_34\">\r\n    <path clip-path=\"url(#pea60c3a0be)\" d=\"M 274.544174 224.64 \r\nL 281.417581 224.64 \r\nL 281.417581 224.64 \r\nL 274.544174 224.64 \r\nz\r\n\" style=\"fill:#1f77b4;opacity:0.4;stroke:#ffffff;stroke-linejoin:miter;\"/>\r\n   </g>\r\n   <g id=\"patch_35\">\r\n    <path clip-path=\"url(#pea60c3a0be)\" d=\"M 281.417581 224.64 \r\nL 288.290987 224.64 \r\nL 288.290987 224.64 \r\nL 281.417581 224.64 \r\nz\r\n\" style=\"fill:#1f77b4;opacity:0.4;stroke:#ffffff;stroke-linejoin:miter;\"/>\r\n   </g>\r\n   <g id=\"patch_36\">\r\n    <path clip-path=\"url(#pea60c3a0be)\" d=\"M 288.290987 224.64 \r\nL 295.164393 224.64 \r\nL 295.164393 224.64 \r\nL 288.290987 224.64 \r\nz\r\n\" style=\"fill:#1f77b4;opacity:0.4;stroke:#ffffff;stroke-linejoin:miter;\"/>\r\n   </g>\r\n   <g id=\"patch_37\">\r\n    <path clip-path=\"url(#pea60c3a0be)\" d=\"M 295.164393 224.64 \r\nL 302.0378 224.64 \r\nL 302.0378 224.64 \r\nL 295.164393 224.64 \r\nz\r\n\" style=\"fill:#1f77b4;opacity:0.4;stroke:#ffffff;stroke-linejoin:miter;\"/>\r\n   </g>\r\n   <g id=\"patch_38\">\r\n    <path clip-path=\"url(#pea60c3a0be)\" d=\"M 302.0378 224.64 \r\nL 308.911206 224.64 \r\nL 308.911206 224.64 \r\nL 302.0378 224.64 \r\nz\r\n\" style=\"fill:#1f77b4;opacity:0.4;stroke:#ffffff;stroke-linejoin:miter;\"/>\r\n   </g>\r\n   <g id=\"patch_39\">\r\n    <path clip-path=\"url(#pea60c3a0be)\" d=\"M 308.911206 224.64 \r\nL 315.784613 224.64 \r\nL 315.784613 224.64 \r\nL 308.911206 224.64 \r\nz\r\n\" style=\"fill:#1f77b4;opacity:0.4;stroke:#ffffff;stroke-linejoin:miter;\"/>\r\n   </g>\r\n   <g id=\"patch_40\">\r\n    <path clip-path=\"url(#pea60c3a0be)\" d=\"M 315.784613 224.64 \r\nL 322.658019 224.64 \r\nL 322.658019 224.64 \r\nL 315.784613 224.64 \r\nz\r\n\" style=\"fill:#1f77b4;opacity:0.4;stroke:#ffffff;stroke-linejoin:miter;\"/>\r\n   </g>\r\n   <g id=\"patch_41\">\r\n    <path clip-path=\"url(#pea60c3a0be)\" d=\"M 322.658019 224.64 \r\nL 329.531426 224.64 \r\nL 329.531426 222.648791 \r\nL 322.658019 222.648791 \r\nz\r\n\" style=\"fill:#1f77b4;opacity:0.4;stroke:#ffffff;stroke-linejoin:miter;\"/>\r\n   </g>\r\n   <g id=\"line2d_12\">\r\n    <path clip-path=\"url(#pea60c3a0be)\" d=\"M 43.318182 224.239155 \r\nL 45.714746 223.340857 \r\nL 48.11131 220.96861 \r\nL 50.507874 215.639548 \r\nL 52.904438 205.470966 \r\nL 55.301002 189.06726 \r\nL 57.697566 166.859805 \r\nL 60.09413 141.928679 \r\nL 62.490694 119.213824 \r\nL 64.887258 103.177227 \r\nL 67.283822 95.537183 \r\nL 69.680387 94.865448 \r\nL 72.076951 98.193266 \r\nL 74.473515 103.064595 \r\nL 76.870079 108.471496 \r\nL 79.266643 114.472719 \r\nL 81.663207 121.36165 \r\nL 84.059771 129.163803 \r\nL 91.249463 154.461512 \r\nL 93.646027 162.231793 \r\nL 98.439155 176.407896 \r\nL 100.835719 183.015484 \r\nL 103.232283 189.090179 \r\nL 105.628848 194.2463 \r\nL 108.025412 198.216023 \r\nL 110.421976 201.037212 \r\nL 112.81854 203.006666 \r\nL 115.215104 204.488625 \r\nL 122.404796 208.342381 \r\nL 127.197924 211.195658 \r\nL 129.594488 212.469312 \r\nL 131.991052 213.401619 \r\nL 134.387616 213.947543 \r\nL 139.180744 214.684467 \r\nL 141.577309 215.379462 \r\nL 148.767001 218.159769 \r\nL 153.560129 219.320681 \r\nL 160.749821 220.963763 \r\nL 172.732641 223.92658 \r\nL 175.129205 224.259966 \r\nL 179.922334 224.567082 \r\nL 187.112026 224.637846 \r\nL 211.077666 224.554583 \r\nL 215.870795 224.298669 \r\nL 223.060487 223.770001 \r\nL 225.457051 223.763021 \r\nL 230.250179 224.063117 \r\nL 235.043307 224.335105 \r\nL 237.439871 224.310232 \r\nL 239.836435 224.152274 \r\nL 249.422691 223.070711 \r\nL 251.819256 223.062131 \r\nL 254.21582 223.232243 \r\nL 263.802076 224.388843 \r\nL 268.595204 224.593592 \r\nL 280.578024 224.63995 \r\nL 316.526485 224.546034 \r\nL 321.319613 224.276407 \r\nL 328.509306 223.762102 \r\nL 330.90587 223.772279 \r\nL 335.698998 224.10341 \r\nL 340.492126 224.458741 \r\nL 345.285254 224.582871 \r\nL 347.681818 224.523449 \r\nL 347.681818 224.523449 \r\n\" style=\"fill:none;stroke:#1f77b4;stroke-linecap:round;stroke-width:1.5;\"/>\r\n   </g>\r\n   <g id=\"patch_42\">\r\n    <path d=\"M 28.1 224.64 \r\nL 28.1 7.2 \r\n\" style=\"fill:none;stroke:#ffffff;stroke-linecap:square;stroke-linejoin:miter;stroke-width:0.8;\"/>\r\n   </g>\r\n   <g id=\"patch_43\">\r\n    <path d=\"M 362.9 224.64 \r\nL 362.9 7.2 \r\n\" style=\"fill:none;stroke:#ffffff;stroke-linecap:square;stroke-linejoin:miter;stroke-width:0.8;\"/>\r\n   </g>\r\n   <g id=\"patch_44\">\r\n    <path d=\"M 28.1 224.64 \r\nL 362.9 224.64 \r\n\" style=\"fill:none;stroke:#ffffff;stroke-linecap:square;stroke-linejoin:miter;stroke-width:0.8;\"/>\r\n   </g>\r\n   <g id=\"patch_45\">\r\n    <path d=\"M 28.1 7.2 \r\nL 362.9 7.2 \r\n\" style=\"fill:none;stroke:#ffffff;stroke-linecap:square;stroke-linejoin:miter;stroke-width:0.8;\"/>\r\n   </g>\r\n  </g>\r\n </g>\r\n <defs>\r\n  <clipPath id=\"pea60c3a0be\">\r\n   <rect height=\"217.44\" width=\"334.8\" x=\"28.1\" y=\"7.2\"/>\r\n  </clipPath>\r\n </defs>\r\n</svg>\r\n",
      "image/png": "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\n"
     },
     "metadata": {}
    }
   ],
   "source": [
    "import seaborn as sns\n",
    "sns.set_style('darkgrid')\n",
    "sns.distplot(mat)\n"
   ]
  },
  {
   "cell_type": "code",
   "execution_count": 14,
   "execution_count": 21,
   "metadata": {},
   "outputs": [
    {
     "output_type": "stream",
     "name": "stdout",
     "text": [
      "[[[1 9 2 5 0 7]\n  [8 1 9 6 0 9]\n  [6 8 0 9 6 0]]\n\n [[3 7 8 8 2 3]\n  [4 0 2 8 2 7]\n  [2 1 1 3 1 1]]\n\n [[9 0 5 4 0 0]\n  [7 3 3 3 8 8]\n  [6 7 2 5 7 9]]\n\n [[5 7 8 7 1 9]\n  [7 5 9 9 4 6]\n  [6 9 7 8 5 0]]\n\n [[9 7 7 9 4 6]\n  [3 4 8 8 5 8]\n  [1 0 0 5 7 8]]\n\n [[5 2 5 2 1 0]\n  [6 8 3 3 9 6]\n  [0 9 7 1 0 0]]\n\n [[3 0 2 4 4 4]\n  [5 6 9 3 7 3]\n  [1 5 2 0 2 2]]\n\n [[6 2 8 4 5 5]\n  [9 5 7 2 2 2]\n  [9 8 0 1 5 9]]\n\n [[0 8 9 0 0 9]\n  [5 8 8 9 0 0]\n  [0 3 5 8 6 7]]\n\n [[6 9 5 3 1 3]\n  [3 9 7 9 5 2]\n  [1 1 7 8 2 8]]]\n"
     ]
    }
   ],
   "source": [
    "import numpy as np\n",
    "from numpy import unravel_index\n",
    "iou = np.random.randint(10, size=(10,3,6))\n",
    "print(iou)\n"
      "(array([ 5, 12, 17, 23, 32, 47, 50, 56], dtype=int64),)\n"
     ]
    }
   ],
   "source": []
  },
  {
   "cell_type": "code",
   "execution_count": 61,
   "metadata": {
    "tags": []
   },
   "outputs": [],
   "source": [
    "with open('../ILSVRC2013_clsloc_validation_ground_truth.txt') as f:\n",
    "    lines = f.readlines()\n",
    "    "
   ]
  },
  {
   "cell_type": "code",
   "execution_count": 15,
   "metadata": {},
   "outputs": [],
   "source": [
    "c_idx = 2\n",
    "temp = iou[:,c_idx-1,:]"
   "execution_count": 102,
   "metadata": {},
   "outputs": [],
   "source": [
    "a=np.array([5,6,7])\n",
    "b=np.array([8,6,7])\n",
    "c=sum(a==b)"
   ]
  },
  {
   "cell_type": "code",
   "execution_count": 18,
   "execution_count": 103,
   "metadata": {},
   "outputs": [
    {
     "output_type": "stream",
     "name": "stdout",
     "text": [
      "[[8 1 9 6 0 9]\n [4 0 2 8 2 7]\n [7 3 3 3 8 8]\n [7 5 9 9 4 6]\n [3 4 8 8 5 8]\n [6 8 3 3 9 6]\n [5 6 9 3 7 3]\n [9 5 7 2 2 2]\n [5 8 8 9 0 0]\n [3 9 7 9 5 2]]\n0\n"
      "0.6666666666666666\n"
     ]
    }
   ],
   "source": [
    "print(temp)\n",
    "idx =unravel_index(temp.argmax(), temp.shape)\n",
    "print(idx[0])"
    "print(c/a.shape[0])"
   ]
  },
  {
   "cell_type": "code",
   "execution_count": 54,
   "execution_count": 6,
   "metadata": {},
   "outputs": [
    {
     "output_type": "error",
     "ename": "NameError",
     "evalue": "name 'layer_names' is not defined",
     "traceback": [
      "\u001b[1;31m---------------------------------------------------------------------------\u001b[0m",
      "\u001b[1;31mNameError\u001b[0m                                 Traceback (most recent call last)",
      "\u001b[1;32m<ipython-input-6-99f0e7dca47b>\u001b[0m in \u001b[0;36m<module>\u001b[1;34m\u001b[0m\n\u001b[0;32m      1\u001b[0m \u001b[0mTop\u001b[0m \u001b[1;33m=\u001b[0m\u001b[1;32mTrue\u001b[0m\u001b[1;33m\u001b[0m\u001b[1;33m\u001b[0m\u001b[0m\n\u001b[1;32m----> 2\u001b[1;33m \u001b[0mmat\u001b[0m\u001b[1;33m=\u001b[0m\u001b[0mnp\u001b[0m\u001b[1;33m.\u001b[0m\u001b[0mload\u001b[0m\u001b[1;33m(\u001b[0m\u001b[1;34m\"IG/alexnet/IG_\"\u001b[0m\u001b[1;33m+\u001b[0m\u001b[0mlayer_names\u001b[0m\u001b[1;33m[\u001b[0m\u001b[0midx\u001b[0m\u001b[1;33m+\u001b[0m\u001b[1;36m1\u001b[0m\u001b[1;33m]\u001b[0m\u001b[1;33m+\u001b[0m\u001b[1;34m\"_class_0\"\u001b[0m\u001b[1;33m+\u001b[0m\u001b[0mstr\u001b[0m\u001b[1;33m(\u001b[0m\u001b[0mselected_class\u001b[0m\u001b[1;33m)\u001b[0m\u001b[1;33m+\u001b[0m\u001b[1;34m\".npy\"\u001b[0m\u001b[1;33m)\u001b[0m\u001b[1;33m\u001b[0m\u001b[1;33m\u001b[0m\u001b[0m\n\u001b[0m\u001b[0;32m      3\u001b[0m \u001b[1;33m\u001b[0m\u001b[0m\n\u001b[0;32m      4\u001b[0m \u001b[1;31m# get the neuron index to be turned off\u001b[0m\u001b[1;33m\u001b[0m\u001b[1;33m\u001b[0m\u001b[1;33m\u001b[0m\u001b[0m\n\u001b[0;32m      5\u001b[0m \u001b[1;32mif\u001b[0m \u001b[0mTop\u001b[0m\u001b[1;33m:\u001b[0m\u001b[1;33m\u001b[0m\u001b[1;33m\u001b[0m\u001b[0m\n",
      "\u001b[1;31mNameError\u001b[0m: name 'layer_names' is not defined"
     ]
    }
   ],
   "source": [
    "Top =True\n",
    "mat=np.load(\"IG/alexnet/IG_\"+layer_names[idx+1]+\"_class_0\"+str(selected_class)+\".npy\")\n",
    "\n",
    "# get the neuron index to be turned off \n",
    "if Top:\n",
    "    threshold=np.quantile(mat,1-percentile/100)\n",
    "    print(1-percentile/100)\n",
    "    itemindex = np.where(mat>threshold)\n",
    "    print(mat[itemindex])\n",
    "if Top==False:\n",
    "    threshold=np.quantile(mat,percentile/100)\n",
    "    print(percentile/100)\n",
    "    itemindex = np.where(mat<threshold)\n",
    "    print(mat[itemindex])"
   ]
  },
  {
   "cell_type": "code",
   "execution_count": 3,
   "metadata": {},
   "outputs": [],
   "source": [
    "import numpy as np \n",
    "from numpy import unravel_index\n",
    "temp = np.random.randint(1,100, size=(64,1200,6))\n",
    "temp[np.isnan(temp)]=0"
   ]
  },
  {
   "cell_type": "code",
   "execution_count": 19,
   "metadata": {},
   "outputs": [
    {
     "output_type": "stream",
     "name": "stdout",
     "text": [
      "3.0\n"
     ]
    }
   ],
   "source": [
    "idx =unravel_index(temp.argmax(), temp.shape)\n",
    "print(np.round(64*5/100))"
   ]
  },
  {
   "cell_type": "code",
   "execution_count": 5,
   "metadata": {},
   "outputs": [],
   "source": [
    "def find_top_unit(iou,c_idx,t_percentage):\n",
    "    ''' takes input iou of a layer, concept id and the percentage\n",
    "    value which will determine the number of units with max iou\n",
    "    score to find out '''\n",
    "\n",
    "    # num of top units to compute\n",
    "    num_unit  = np.int(np.round(iou.shape[0]*t_percentage/100))\n",
    "    \n",
    "    unit_list = np.zeros((num_unit)) \n",
    "    \n",
    "    #iou score list of desired concept index\n",
    "    temp = iou[:,c_idx-1,:]\n",
    "    temp[np.isnan(temp)] = 0\n",
    "\n",
    "    for u in range(num_unit):\n",
    "        idx          = unravel_index(temp.argmax(), temp.shape)\n",
    "        unit_list[u] = idx[0]\n",
    "        temp[idx]    = 0    #Setting zero to discard from next iteration\n",
    "    \n",
    "    return unit_list"
   ]
  },
  {
   "cell_type": "code",
   "execution_count": 73,
   "metadata": {},
   "outputs": [
    {
     "output_type": "stream",
     "name": "stdout",
     "text": [
      "(256, 1200, 6)\n[20. 49.  2. 13. 53. 77. 37. 43. 14. 41. 10. 15. 63.]\n"
     ]
    }
   ],
   "source": [
    "iou=np.load('E:\\TRDP_II\\IOU/resnet18/iou_Layer1_conv2d_1.npy')\n",
    "d = find_top_units(iou,121,5)\n",
    "print(d)"
   "execution_count": null,
    "iou = np.load('E:\\TRDP_II\\ICNN\\IOU/alexnet/alexnet/iou_Conv2d_Layer8.npy')\n",
    "print(iou.shape)\n",
    "a = find_top_unit(iou,101,5)\n",
    "print(a)"
   ]
  },
  {
   "cell_type": "code",
   "execution_count": 74,
   "metadata": {},
   "outputs": [],
   "source": [
    "def find_top_unit_IG(IG,t_percentage):\n",
    "    IG=np.load(\"E:\\TRDP_II\\ICNN\\IG/alexnet/IG_Conv2d_Layer6_class_0101.npy\")\n",
    "    # num of top units to compute\n",
    "    num_unit  = np.int(np.round(IG.shape[0]*t_percentage/100))\n",
    "\n",
    "    unit_list = np.zeros((num_unit)) \n",
    "\n",
    "    for u in range(num_unit):\n",
    "        idx          = unravel_index(IG.argmax(), IG.shape)\n",
    "        unit_list[u] = idx[0]\n",
    "        IG[idx]    = 0    #Setting zero to discard from next iteration\n",
    "\n",
    "        # get the neuron index to be turned off \n",
    "        if Top:\n",
    "            threshold=np.quantile(mat,1-percentile/100)\n",
    "            print(1-percentile/100)\n",
    "            itemindex = np.where(mat>threshold)\n",
    "            print(mat[itemindex])\n",
    "        if Top==False:\n",
    "            threshold=np.quantile(mat,percentile/100)\n",
    "            print(percentile/100)\n",
    "            itemindex = np.where(mat<threshold)\n",
    "            print(mat[itemindex])"
    "    return unit_list\n"
   ]
  },
  {
   "cell_type": "code",
   "execution_count": 76,
   "metadata": {},
   "outputs": [
    {
     "output_type": "stream",
     "name": "stdout",
     "text": [
      "[ 94.  83. 107. 116.  31. 119. 160.   1.  12.  18.]\n(192,)\n"
     ]
    }
   ],
   "source": [
    "print(unit_list)\n",
    "print(IG.shape)"
   ]
  },
  {
   "cell_type": "code",
   "execution_count": null,
   "metadata": {},
   "outputs": [],
   "source": []
  }
 ]
}