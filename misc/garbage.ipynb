{
 "metadata": {
  "language_info": {
   "codemirror_mode": {
    "name": "ipython",
    "version": 3
   },
   "file_extension": ".py",
   "mimetype": "text/x-python",
   "name": "python",
   "nbconvert_exporter": "python",
   "pygments_lexer": "ipython3",
   "version": "3.8.3-final"
  },
  "orig_nbformat": 2,
  "kernelspec": {
   "name": "python3",
   "display_name": "Python 3",
   "language": "python"
  }
 },
 "nbformat": 4,
 "nbformat_minor": 2,
 "cells": [
  {
   "cell_type": "code",
   "execution_count": null,
   "metadata": {},
   "outputs": [],
   "source": [
    "# import csv\n",
    "# import os\n",
    "# for i in range(12,1200):\n",
    "#     fname = os.path.join('New_Dataset',str(i)+'.csv')\n",
    "#     with open(fname,'w',newline='') as file:\n",
    "#         writer = csv.writer(file)\n",
    "#         writer.writerow([\"Image\",\"Annotations\"])"
   ]
  },
  {
   "cell_type": "code",
   "execution_count": null,
   "metadata": {},
   "outputs": [],
   "source": [
    "def add_on_csv(idx,Image,GTname):\n",
    "    for i in idx:\n",
    "        fname = os.path.join('New_Dataset',str(i)+'.csv')\n",
    "        with open(fname,'a+',newline='') as file:\n",
    "            writer = csv.writer(file)\n",
    "            writer.writerow([Image,GTname])"
   ]
  },
  {
   "cell_type": "code",
   "execution_count": null,
   "metadata": {},
   "outputs": [],
   "source": [
    "from __future__ import print_function, division\n",
    "import os\n",
    "os.environ['KMP_DUPLICATE_LIB_OK']='True'\n",
    "import torch\n",
    "import pandas as pd\n",
    "import numpy as np\n",
    "from torch.utils.data import Dataset, DataLoader\n",
    "import matplotlib.pyplot as plt\n",
    "from torchvision import transforms, utils\n",
    "from PIL import Image\n",
    "import torchvision.transforms.functional as TF"
   ]
  },
  {
   "cell_type": "code",
   "execution_count": null,
   "metadata": {},
   "outputs": [],
   "source": [
    "concepts = [\"color\",\"object\",\"part\",\"material\",\"scene\",\"texture\"]\n",
    "\n",
    "class conceptLoader(Dataset):\n",
    "    \"\"\"Broaden Dataset Image Loader\"\"\"\n",
    "    \n",
    "    def __init__(self, root_dir):\n",
    "        \"\"\"\n",
    "        Args:\n",
    "            csv_file (string): Path to the csv file with annotations.\n",
    "            root_dir (string): Directory with all the images.\n",
    "            conceptType (string): type of the concept to load.\n",
    "        \"\"\"\n",
    "        self.c_flag = False  # Concept Flag\n",
    "        csv_file = os.path.join(root_dir,\"index.csv\") \n",
    "        root_dir = os.path.join(root_dir,\"images\") \n",
    "        self.fileNames = pd.read_csv(csv_file)\n",
    "        self.root_dir = root_dir\n",
    "\n",
    "    def __len__(self):\n",
    "        return len(self.fileNames)\n",
    "    \n",
    "\n",
    "    def load_concept(self,idx,conceptType):\n",
    "        c_index = str(self.fileNames.iloc[idx, concepts.index(conceptType)+6])\n",
    "        image_name = str(self.fileNames.iloc[idx, 0])\n",
    "        if c_index=='nan':\n",
    "            self.c_flag = False\n",
    "            # sample = torch.zeros([1, 113, 113])\n",
    "            sample =0\n",
    "        else:\n",
    "            self.c_flag = True\n",
    "            if conceptType ==\"scene\" or conceptType ==\"texture\":\n",
    "                sample  = c_index.split(\";\") \n",
    "            elif conceptType ==\"part\":\n",
    "                items  = c_index.split(\";\") \n",
    "                sample = []\n",
    "                c_index=[]\n",
    "                for i in items:\n",
    "                    img_name = os.path.join(self.root_dir,i)\n",
    "                    image = Image.open(img_name)\n",
    "                    px = np.array(image)\n",
    "                    item = self.decodeClassMask(px)\n",
    "                    sample.append(item)\n",
    "                    c_index.append(i)\n",
    "                \n",
    "            else:\n",
    "                img_name = os.path.join(self.root_dir,c_index)\n",
    "                image = Image.open(img_name)\n",
    "                px = np.array(image)\n",
    "                sample = self.decodeClassMask(px)\n",
    "                #sample = Image.fromarray(sample)\n",
    "                #sample = TF.to_tensor(sample)     \n",
    "\n",
    "        # sample.unsqueeze_(0)\n",
    "        return self.c_flag, sample,image_name,c_index\n",
    "\n",
    "    def decodeClassMask(self,im):\n",
    "        ''' Decodes pixel-level object/part class and instance data from\n",
    "        the given image, previously encoded into RGB channels.'''\n",
    "    # Classes are a combination of RG channels\n",
    "        return (im[:,:,0] + (im[:,:,1])*256)\n",
    "\n"
   ]
  },
  {
   "cell_type": "code",
   "execution_count": null,
   "metadata": {
    "tags": [
     "outputPrepend"
    ]
   },
   "outputs": [],
   "source": [
    "    dataset_path='./broden1_227'\n",
    "    # data_obj = imageLoader(dataset_path)\n",
    "    data_obj = conceptLoader(dataset_path)\n",
    "    for j in range(63305):\n",
    "        flag,aa,ImgName, ConName = data_obj.load_concept(j,\"material\")\n",
    "        print(j)\n",
    "        if flag:\n",
    "            k=np.unique(aa)\n",
    "            add_on_csv(k,ImgName,ConName)"
   ]
  },
  {
   "cell_type": "code",
   "execution_count": null,
   "metadata": {
    "tags": [
     "outputPrepend"
    ]
   },
   "outputs": [],
   "source": [
    "    dataset_path='./broden1_227'\n",
    "    # data_obj = imageLoader(dataset_path)\n",
    "    data_obj = conceptLoader(dataset_path)\n",
    "    for j in range(63305):\n",
    "        flag,aa,ImgName, ConName = data_obj.load_concept(j,\"part\")\n",
    "\n",
    "        if flag:\n",
    "            for i in range(len(aa)):\n",
    "                k=np.unique(aa[i])\n",
    "                add_on_csv(k,ImgName,ConName[i])\n",
    "        print(j)"
   ]
  },
  {
   "cell_type": "code",
   "execution_count": null,
   "metadata": {},
   "outputs": [],
   "source": [
    "import numpy as np\n",
    "aa=np.zeros((2,2))\n",
    "aa[0,0]=1\n",
    "aa[aa!=1]=0\n",
    "\n",
    "print(aa)"
   ]
  },
  {
   "cell_type": "code",
   "execution_count": null,
   "metadata": {},
   "outputs": [],
   "source": [
    "import torch \n",
    "x=torch.ones([10,3,155,155])"
   ]
  },
  {
   "cell_type": "code",
   "execution_count": null,
   "metadata": {},
   "outputs": [],
   "source": [
    "y=torch.ones([x.shape[0]])"
   ]
  },
  {
   "cell_type": "code",
   "execution_count": null,
   "metadata": {},
   "outputs": [],
   "source": [
    "import os\n",
    "cwd = os.getcwd()  \n",
    "dir = os.path.join(cwd,\"Tk\")\n",
    "if not os.path.exists(dir):\n",
    "    os.mkdir(dir)"
   ]
  },
  {
   "cell_type": "code",
   "execution_count": null,
   "metadata": {},
   "outputs": [],
   "source": [
    "import torch\n",
    "import torch.nn as nn\n",
    "import torch.optim as optim\n",
    "import torch.nn.functional as F\n",
    "from torch.utils.data import DataLoader\n",
    "import torchvision\n",
    "import torchvision.transforms as transforms\n",
    "from skimage.transform import resize\n",
    "import torchvision.datasets as datasets\n",
    "from torchvision import models\n",
    "import matplotlib.pyplot as plt\n",
    "import time\n",
    "import numpy as np\n",
    "import gc"
   ]
  },
  {
   "cell_type": "code",
   "execution_count": null,
   "metadata": {},
   "outputs": [],
   "source": [
    "from torchvision import models\n",
    "model = models.resnet18(pretrained=True)\n",
    "name = model.__class__.__name__\n",
    "print(name)"
   ]
  },
  {
   "cell_type": "code",
   "execution_count": null,
   "metadata": {},
   "outputs": [],
   "source": [
    "os.mkdir('tempDir')"
   ]
  },
  {
   "cell_type": "code",
   "execution_count": null,
   "metadata": {},
   "outputs": [],
   "source": [
    "import numpy as np"
   ]
  },
  {
   "cell_type": "code",
   "execution_count": null,
   "metadata": {},
   "outputs": [],
   "source": [
    "z=np.load('E:\\TRDP_II\\ICNN\\IOU/resnet18/iou_Layer1_conv2d_1.npy')\n",
    "\n",
    "z.shape"
   ]
  },
  {
   "cell_type": "code",
   "execution_count": null,
   "metadata": {},
   "outputs": [],
   "source": [
    "import matplotlib.pyplot as plt\n",
    "plt.plot([1, 2, 3, 4])\n",
    "plt.xlabel('Blah')\n",
    "plt.ylabel('some numbers')\n",
    "plt.show()"
   ]
  },
  {
   "cell_type": "code",
   "execution_count": null,
   "metadata": {},
   "outputs": [],
   "source": [
    "plt.plot([1, 2, 3, 4], [1, 4, 9, 16], 'r*')\n",
    "plt.axis([0, 6, 0, 20])\n",
    "plt.show()"
   ]
  },
  {
   "cell_type": "code",
   "execution_count": null,
   "metadata": {},
   "outputs": [],
   "source": [
    "import numpy as np\n",
    "\n",
    "# evenly sampled time at 200ms intervals\n",
    "t = np.arange(0., 5., 0.2)\n",
    "\n",
    "# red dashes, blue squares and green triangles\n",
    "plt.plot(t, t, 'r--', t, t**2, 'bs', t, t**3, 'g^')\n",
    "plt.show()"
   ]
  },
  {
   "cell_type": "code",
   "execution_count": null,
   "metadata": {},
   "outputs": [],
   "source": [
    "names = ['group_a', 'group_b', 'group_c']\n",
    "values = [1, 10, 100]\n",
    "\n",
    "plt.figure(figsize=(9, 3))\n",
    "\n",
    "plt.subplot(131)\n",
    "plt.bar(names, values)\n",
    "plt.subplot(132)\n",
    "plt.scatter(names, values)\n",
    "plt.subplot(133)\n",
    "plt.plot(names, values)\n",
    "plt.suptitle('Categorical Plotting')\n",
    "plt.show()"
   ]
  },
  {
   "cell_type": "code",
   "execution_count": null,
   "metadata": {},
   "outputs": [],
   "source": [
    "import numpy as np\n",
    "from numpy import unravel_index\n",
    "iou = np.random.randint(10, size=(64,1200,6))\n",
    "print(iou.shape)"
   ]
  },
  {
   "cell_type": "code",
   "execution_count": null,
   "metadata": {},
   "outputs": [],
   "source": [
    "top = 3\n",
    "num_concept = 4\n",
    "# names = [\"Tush\",\"Bush\",\"Nush\",\"thush\",\"ghush\"]\n",
    "# values = np.random.randint(10, size=(top,num_concept,5))\n",
    "names,values = get_concept_summary(\"resnet18\")\n",
    "\n",
    "\n",
    "for t in range(top):\n",
    "    plt.figure(figsize=(15, 3))\n",
    "    plt.suptitle(\"Top \"+str(t+1))\n",
    "\n",
    "    p1,=plt.plot(names,values[t,0,:],'o--',label=\"color\")\n",
    "    p2,=plt.plot(names,values[t,1,:],'o--',label=\"Object\")\n",
    "    p3,=plt.plot(names,values[t,2,:],'o--',label=\"Part\")\n",
    "    p4,=plt.plot(names,values[t,3,:],'o--',label=\"Material\")\n",
    "\n",
    "    # Place a legend above this subplot, expanding itself to\n",
    "    # fully use the given bounding box.\n",
    "    plt.legend(bbox_to_anchor=(0., 1.02, 1., .102), loc='lower right',\n",
    "           ncol=1, mode=\"expand\", borderaxespad=0.)\n",
    "    plt.show()\n",
    "        "
   ]
  },
  {
   "cell_type": "code",
   "execution_count": 78,
   "metadata": {},
   "outputs": [],
   "source": [
    "def generate_TopThreeIOU(iou,top=3):\n",
    "    TopThreeIOU = np.zeros([top,iou.shape[0]])\n",
    "    for u in range(iou.shape[0]):\n",
    "        U_iou = iou[u,:,:]\n",
    "        for t in range(top):\n",
    "            idx =unravel_index(U_iou.argmax(), U_iou.shape)\n",
    "            TopThreeIOU[t,u]=idx[1]\n",
    "            U_iou[idx]=0\n",
    "    return TopThreeIOU"
   ]
  },
  {
   "cell_type": "code",
   "execution_count": 79,
   "metadata": {},
   "outputs": [],
   "source": [
    "def plot_summary(iou,top=3):\n",
    "\n",
    "    num_concept = 4 # No. of concepts\n",
    "\n",
    "    #shape of tp_iou = #top x #No. of units\n",
    "    tp_iou = generate_TopThreeIOU(iou,top)\n",
    "\n",
    "    c= np.zeros([top,num_concept])\n",
    "    for t in range(top):\n",
    "        temp = np.array(tp_iou[t,:])\n",
    "        for i in range (num_concept):\n",
    "            c[t,i] = sum(temp==i)\n",
    "    return c"
   ]
  },
  {
   "cell_type": "code",
   "execution_count": 80,
   "metadata": {},
   "outputs": [],
   "source": [
    "import numpy as np\n",
    "from numpy import unravel_index\n",
    "import matplotlib.pyplot as plt\n",
    "import matplotlib.patches as mpatches\n",
    "\n",
    "values = np.zeros((top,num_concept,17))\n",
    "for layer in range(17):\n",
    "    iou=np.load('E:\\TRDP_II\\IOU/resnet18/iou_Layer1_conv2d_1.npy')\n",
    "    value = plot_summary(iou)\n",
    "    values[:,:,layer]=value"
   ]
  },
  {
   "cell_type": "code",
   "execution_count": 81,
   "metadata": {},
   "outputs": [
    {
     "output_type": "stream",
     "name": "stdout",
     "text": [
      "(3, 4, 17)\n"
     ]
    }
   ],
   "source": [
    "print(values.shape)"
   ]
  },
  {
   "cell_type": "code",
   "execution_count": 8,
   "metadata": {},
   "outputs": [
    {
     "output_type": "stream",
     "name": "stdout",
     "text": [
      "[[False False False False]\n [False False False False]]\n"
     ]
    }
   ],
   "source": [
    "import numpy as np\n",
    "r = np.zeros((2,4))\n",
    "r[1,1] = np.nan\n",
    "r[np.isnan(r)]=0\n",
    "print(np.isnan(r))"
   ]
  },
  {
   "cell_type": "code",
   "execution_count": 14,
   "metadata": {},
   "outputs": [
    {
     "output_type": "stream",
     "name": "stdout",
     "text": [
      "[[[1 9 2 5 0 7]\n  [8 1 9 6 0 9]\n  [6 8 0 9 6 0]]\n\n [[3 7 8 8 2 3]\n  [4 0 2 8 2 7]\n  [2 1 1 3 1 1]]\n\n [[9 0 5 4 0 0]\n  [7 3 3 3 8 8]\n  [6 7 2 5 7 9]]\n\n [[5 7 8 7 1 9]\n  [7 5 9 9 4 6]\n  [6 9 7 8 5 0]]\n\n [[9 7 7 9 4 6]\n  [3 4 8 8 5 8]\n  [1 0 0 5 7 8]]\n\n [[5 2 5 2 1 0]\n  [6 8 3 3 9 6]\n  [0 9 7 1 0 0]]\n\n [[3 0 2 4 4 4]\n  [5 6 9 3 7 3]\n  [1 5 2 0 2 2]]\n\n [[6 2 8 4 5 5]\n  [9 5 7 2 2 2]\n  [9 8 0 1 5 9]]\n\n [[0 8 9 0 0 9]\n  [5 8 8 9 0 0]\n  [0 3 5 8 6 7]]\n\n [[6 9 5 3 1 3]\n  [3 9 7 9 5 2]\n  [1 1 7 8 2 8]]]\n"
     ]
    }
   ],
   "source": [
    "import numpy as np\n",
    "from numpy import unravel_index\n",
    "iou = np.random.randint(10, size=(10,3,6))\n",
    "print(iou)\n"
   ]
  },
  {
   "cell_type": "code",
   "execution_count": 15,
   "metadata": {},
   "outputs": [],
   "source": [
    "c_idx = 2\n",
    "temp = iou[:,c_idx-1,:]"
   ]
  },
  {
   "cell_type": "code",
   "execution_count": 18,
   "metadata": {},
   "outputs": [
    {
     "output_type": "stream",
     "name": "stdout",
     "text": [
      "[[8 1 9 6 0 9]\n [4 0 2 8 2 7]\n [7 3 3 3 8 8]\n [7 5 9 9 4 6]\n [3 4 8 8 5 8]\n [6 8 3 3 9 6]\n [5 6 9 3 7 3]\n [9 5 7 2 2 2]\n [5 8 8 9 0 0]\n [3 9 7 9 5 2]]\n0\n"
     ]
    }
   ],
   "source": [
    "print(temp)\n",
    "idx =unravel_index(temp.argmax(), temp.shape)\n",
    "print(idx[0])"
   ]
  },
  {
   "cell_type": "code",
   "execution_count": 54,
   "metadata": {},
   "outputs": [],
   "source": [
    "def find_top_units(iou,c_idx,top_percentage):\n",
    "\n",
    "    # Get the number of top units to be computed\n",
    "    num_top_unit = np.int(np.round(iou.shape[0]*top_percentage/100))\n",
    "    unit_list = np.zeros((num_top_unit))\n",
    "    temp = iou[:,c_idx-1,:]\n",
    "    temp[np.isnan(temp)]=0\n",
    "    for i in range(num_top_unit):\n",
    "        idx  = unravel_index(temp.argmax(), temp.shape)\n",
    "        unit_list[i] = idx[0]\n",
    "        temp[idx] = 0\n",
    "    return unit_list"
   ]
  },
  {
   "cell_type": "code",
   "execution_count": 55,
   "metadata": {},
   "outputs": [
    {
     "output_type": "stream",
     "name": "stdout",
     "text": [
      "[30. 40. 56.]\n"
     ]
    }
   ],
   "source": [
    "iou=np.load('E:\\TRDP_II\\IOU/resnet18/iou_Layer1_conv2d_1.npy')\n",
    "d = find_top_units(iou,121,5)\n",
    "print(d)"
   ]
  }
 ]
}